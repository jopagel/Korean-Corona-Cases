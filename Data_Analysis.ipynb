{
 "cells": [
  {
   "cell_type": "markdown",
   "metadata": {},
   "source": [
    "# Analysis of Korean Corona Cases"
   ]
  },
  {
   "cell_type": "markdown",
   "metadata": {},
   "source": [
    "This dataset..."
   ]
  },
  {
   "cell_type": "markdown",
   "metadata": {},
   "source": [
    "In order to come up with some data related questions, we have to explore the data first. After that, we can decide, which questions to ask concerning the preceding dataset."
   ]
  },
  {
   "cell_type": "code",
   "execution_count": 78,
   "metadata": {},
   "outputs": [],
   "source": [
    "import pandas as pd\n",
    "import numpy as np\n",
    "import matplotlib.pyplot as plt\n",
    "import seaborn as sns\n",
    "from sklearn.linear_model import LinearRegression\n",
    "from sklearn.model_selection import train_test_split"
   ]
  },
  {
   "cell_type": "code",
   "execution_count": 96,
   "metadata": {},
   "outputs": [],
   "source": [
    "import warnings\n",
    "warnings.filterwarnings('ignore')"
   ]
  },
  {
   "cell_type": "code",
   "execution_count": 97,
   "metadata": {
    "pycharm": {
     "name": "#%%\n"
    }
   },
   "outputs": [],
   "source": [
    "df = pd.read_csv('PatientInfo.csv')"
   ]
  },
  {
   "cell_type": "code",
   "execution_count": 98,
   "metadata": {},
   "outputs": [
    {
     "data": {
      "text/html": [
       "<div>\n",
       "<style scoped>\n",
       "    .dataframe tbody tr th:only-of-type {\n",
       "        vertical-align: middle;\n",
       "    }\n",
       "\n",
       "    .dataframe tbody tr th {\n",
       "        vertical-align: top;\n",
       "    }\n",
       "\n",
       "    .dataframe thead th {\n",
       "        text-align: right;\n",
       "    }\n",
       "</style>\n",
       "<table border=\"1\" class=\"dataframe\">\n",
       "  <thead>\n",
       "    <tr style=\"text-align: right;\">\n",
       "      <th></th>\n",
       "      <th>patient_id</th>\n",
       "      <th>sex</th>\n",
       "      <th>age</th>\n",
       "      <th>country</th>\n",
       "      <th>province</th>\n",
       "      <th>city</th>\n",
       "      <th>infection_case</th>\n",
       "      <th>infected_by</th>\n",
       "      <th>contact_number</th>\n",
       "      <th>symptom_onset_date</th>\n",
       "      <th>confirmed_date</th>\n",
       "      <th>released_date</th>\n",
       "      <th>deceased_date</th>\n",
       "      <th>state</th>\n",
       "    </tr>\n",
       "  </thead>\n",
       "  <tbody>\n",
       "    <tr>\n",
       "      <th>0</th>\n",
       "      <td>1000000001</td>\n",
       "      <td>male</td>\n",
       "      <td>50s</td>\n",
       "      <td>Korea</td>\n",
       "      <td>Seoul</td>\n",
       "      <td>Gangseo-gu</td>\n",
       "      <td>overseas inflow</td>\n",
       "      <td>NaN</td>\n",
       "      <td>75</td>\n",
       "      <td>2020-01-22</td>\n",
       "      <td>2020-01-23</td>\n",
       "      <td>2020-02-05</td>\n",
       "      <td>NaN</td>\n",
       "      <td>released</td>\n",
       "    </tr>\n",
       "    <tr>\n",
       "      <th>1</th>\n",
       "      <td>1000000002</td>\n",
       "      <td>male</td>\n",
       "      <td>30s</td>\n",
       "      <td>Korea</td>\n",
       "      <td>Seoul</td>\n",
       "      <td>Jungnang-gu</td>\n",
       "      <td>overseas inflow</td>\n",
       "      <td>NaN</td>\n",
       "      <td>31</td>\n",
       "      <td>NaN</td>\n",
       "      <td>2020-01-30</td>\n",
       "      <td>2020-03-02</td>\n",
       "      <td>NaN</td>\n",
       "      <td>released</td>\n",
       "    </tr>\n",
       "    <tr>\n",
       "      <th>2</th>\n",
       "      <td>1000000003</td>\n",
       "      <td>male</td>\n",
       "      <td>50s</td>\n",
       "      <td>Korea</td>\n",
       "      <td>Seoul</td>\n",
       "      <td>Jongno-gu</td>\n",
       "      <td>contact with patient</td>\n",
       "      <td>2.002000e+09</td>\n",
       "      <td>17</td>\n",
       "      <td>NaN</td>\n",
       "      <td>2020-01-30</td>\n",
       "      <td>2020-02-19</td>\n",
       "      <td>NaN</td>\n",
       "      <td>released</td>\n",
       "    </tr>\n",
       "    <tr>\n",
       "      <th>3</th>\n",
       "      <td>1000000004</td>\n",
       "      <td>male</td>\n",
       "      <td>20s</td>\n",
       "      <td>Korea</td>\n",
       "      <td>Seoul</td>\n",
       "      <td>Mapo-gu</td>\n",
       "      <td>overseas inflow</td>\n",
       "      <td>NaN</td>\n",
       "      <td>9</td>\n",
       "      <td>2020-01-26</td>\n",
       "      <td>2020-01-30</td>\n",
       "      <td>2020-02-15</td>\n",
       "      <td>NaN</td>\n",
       "      <td>released</td>\n",
       "    </tr>\n",
       "    <tr>\n",
       "      <th>4</th>\n",
       "      <td>1000000005</td>\n",
       "      <td>female</td>\n",
       "      <td>20s</td>\n",
       "      <td>Korea</td>\n",
       "      <td>Seoul</td>\n",
       "      <td>Seongbuk-gu</td>\n",
       "      <td>contact with patient</td>\n",
       "      <td>1.000000e+09</td>\n",
       "      <td>2</td>\n",
       "      <td>NaN</td>\n",
       "      <td>2020-01-31</td>\n",
       "      <td>2020-02-24</td>\n",
       "      <td>NaN</td>\n",
       "      <td>released</td>\n",
       "    </tr>\n",
       "  </tbody>\n",
       "</table>\n",
       "</div>"
      ],
      "text/plain": [
       "   patient_id     sex  age country province         city  \\\n",
       "0  1000000001    male  50s   Korea    Seoul   Gangseo-gu   \n",
       "1  1000000002    male  30s   Korea    Seoul  Jungnang-gu   \n",
       "2  1000000003    male  50s   Korea    Seoul    Jongno-gu   \n",
       "3  1000000004    male  20s   Korea    Seoul      Mapo-gu   \n",
       "4  1000000005  female  20s   Korea    Seoul  Seongbuk-gu   \n",
       "\n",
       "         infection_case   infected_by contact_number symptom_onset_date  \\\n",
       "0       overseas inflow           NaN             75         2020-01-22   \n",
       "1       overseas inflow           NaN             31                NaN   \n",
       "2  contact with patient  2.002000e+09             17                NaN   \n",
       "3       overseas inflow           NaN              9         2020-01-26   \n",
       "4  contact with patient  1.000000e+09              2                NaN   \n",
       "\n",
       "  confirmed_date released_date deceased_date     state  \n",
       "0     2020-01-23    2020-02-05           NaN  released  \n",
       "1     2020-01-30    2020-03-02           NaN  released  \n",
       "2     2020-01-30    2020-02-19           NaN  released  \n",
       "3     2020-01-30    2020-02-15           NaN  released  \n",
       "4     2020-01-31    2020-02-24           NaN  released  "
      ]
     },
     "execution_count": 98,
     "metadata": {},
     "output_type": "execute_result"
    }
   ],
   "source": [
    "df.head()"
   ]
  },
  {
   "cell_type": "code",
   "execution_count": 99,
   "metadata": {},
   "outputs": [
    {
     "name": "stdout",
     "output_type": "stream",
     "text": [
      "<class 'pandas.core.frame.DataFrame'>\n",
      "RangeIndex: 5165 entries, 0 to 5164\n",
      "Data columns (total 14 columns):\n",
      " #   Column              Non-Null Count  Dtype  \n",
      "---  ------              --------------  -----  \n",
      " 0   patient_id          5165 non-null   object \n",
      " 1   sex                 4042 non-null   object \n",
      " 2   age                 3784 non-null   object \n",
      " 3   country             5164 non-null   object \n",
      " 4   province            5164 non-null   object \n",
      " 5   city                5070 non-null   object \n",
      " 6   infection_case      4245 non-null   object \n",
      " 7   infected_by         1345 non-null   float64\n",
      " 8   contact_number      791 non-null    object \n",
      " 9   symptom_onset_date  690 non-null    object \n",
      " 10  confirmed_date      5161 non-null   object \n",
      " 11  released_date       1587 non-null   object \n",
      " 12  deceased_date       66 non-null     object \n",
      " 13  state               5164 non-null   object \n",
      "dtypes: float64(1), object(13)\n",
      "memory usage: 565.0+ KB\n"
     ]
    }
   ],
   "source": [
    "df.info()"
   ]
  },
  {
   "cell_type": "markdown",
   "metadata": {},
   "source": [
    "## 1. Business Understanding"
   ]
  },
  {
   "cell_type": "markdown",
   "metadata": {},
   "source": [
    "## 2. Data Understanding"
   ]
  },
  {
   "cell_type": "code",
   "execution_count": 100,
   "metadata": {},
   "outputs": [
    {
     "name": "stdout",
     "output_type": "stream",
     "text": [
      "Fraction of NA's in column sympton_onset_date: 0.8664085188770572\n",
      "Fraction of NA's in column confirmed_date: 0.0007744433688286545\n",
      "Fraction of NA's in column released_date: 0.6927395934172313\n",
      "Fraction of NA's in column deceased_date: 0.9872216844143272\n",
      "\n"
     ]
    }
   ],
   "source": [
    "print(f\"Fraction of NA's in column sympton_onset_date: {df['symptom_onset_date'].isna().mean()}\\n\\\n",
    "Fraction of NA's in column confirmed_date: {df['confirmed_date'].isna().mean()}\\n\\\n",
    "Fraction of NA's in column released_date: {df['released_date'].isna().mean()}\\n\\\n",
    "Fraction of NA's in column deceased_date: {df['deceased_date'].isna().mean()}\\n\")"
   ]
  },
  {
   "cell_type": "code",
   "execution_count": null,
   "metadata": {},
   "outputs": [],
   "source": [
    "Questions to ask:\n",
    "\n",
    "\n",
    "1. Which province had the most Cases\n",
    "2. Is there a difference in duration of illness male vs female citizen? \n",
    "3. Which Features have the biggest influence on the duration of the infection? \n"
   ]
  },
  {
   "cell_type": "markdown",
   "metadata": {},
   "source": [
    "## 3. Data Preparation"
   ]
  },
  {
   "cell_type": "code",
   "execution_count": 101,
   "metadata": {},
   "outputs": [],
   "source": [
    "def time_to_integer(time):\n",
    "    \"\"\"Extracts days from datetime object\n",
    "    :param time:\n",
    "        datetime object\n",
    "    :return:\n",
    "        days of datetime object\n",
    "    \"\"\"\n",
    "    time = str(time)\n",
    "    t, _, _ = time.split(\" \")\n",
    "    return int(t)\n",
    "\n",
    "\n",
    "def prepare_df(df):\n",
    "    \"\"\"Function to drop prepare the initial dataframe. This includes dropping NA's in confirmed_data, released_date\n",
    "    and afterwards transforming these columns to datetime objects. After that a new feature \"duration\" is created and\n",
    "    unnecessary columns are being dropped\n",
    "    :param df:\n",
    "        dataframe to be prepared\n",
    "    :return:\n",
    "        prepared dataframe\n",
    "    \"\"\"\n",
    "    df = df.dropna(subset=[\"confirmed_date\", \"released_date\"])\n",
    "    assert df.confirmed_date.isna().sum != 0 or df.released_date != 0\n",
    "    df[[\"confirmed_date\", \"released_date\"]] = df[\n",
    "        [\"confirmed_date\", \"released_date\"]\n",
    "    ].apply(pd.to_datetime)\n",
    "    df[\"duration\"] = df[\"released_date\"] - df[\"confirmed_date\"]\n",
    "    df[\"duration\"] = df[\"duration\"].apply(time_to_integer)\n",
    "    df = df.drop(\n",
    "        [\n",
    "            \"symptom_onset_date\",\n",
    "            \"deceased_date\",\n",
    "            \"patient_id\",\n",
    "            \"country\",\n",
    "            \"infected_by\",\n",
    "            \"state\",\n",
    "            \"contact_number\",\n",
    "            \"confirmed_date\",\n",
    "            \"released_date\",\n",
    "            \"city\",\n",
    "        ],\n",
    "        axis=1,\n",
    "    )\n",
    "\n",
    "    return df\n",
    "\n",
    "\n",
    "def create_test_train(df):\n",
    "    \"\"\"\n",
    "    Creates dummy columns for categoric features and splits into test and train for X and y.\n",
    "    :param df:\n",
    "        dataframe with categoric columns\n",
    "    :return:\n",
    "        X_train and y_train to be used for Regression fit and X_test and y_Test for testing the model on unseen data\n",
    "    \"\"\"\n",
    "    cat_vars = df.select_dtypes(include=[\"object\"]).copy().columns\n",
    "    for var in cat_vars:\n",
    "        df = pd.concat(\n",
    "            [\n",
    "                df.drop(var, axis=1),\n",
    "                pd.get_dummies(df[var], prefix=var, prefix_sep=\"_\", drop_first=True),\n",
    "            ],\n",
    "            axis=1,\n",
    "        )\n",
    "\n",
    "    X = df.drop(\"duration\", axis=1)\n",
    "    y = df[\"duration\"]\n",
    "\n",
    "    X_train, X_test, y_train, y_test = train_test_split(\n",
    "        X, y, test_size=0.2, random_state=42\n",
    "    )\n",
    "\n",
    "    return X_train, X_test, y_train, y_test\n",
    "\n",
    "\n",
    "def coef_weights(coefficients, X_train):\n",
    "    \"\"\"\n",
    "    Provides a dataframe that can be used to understand the most influential coefficients\n",
    "    in a linear model by providing the coefficient estimates along with the name of the\n",
    "    variable attached to the coefficient.\n",
    "    :param coefficients\n",
    "        the coefficients of the linear model\n",
    "    :param X_train\n",
    "        the training data, so the column names can be used\n",
    "    :return:\n",
    "        coefs_df - a dataframe holding the coefficient, estimate, and abs(estimate)\n",
    "    \"\"\"\n",
    "    coefs_df = pd.DataFrame()\n",
    "    coefs_df[\"est_int\"] = X_train.columns\n",
    "    coefs_df[\"coefs\"] = model.coef_\n",
    "    coefs_df[\"abs_coefs\"] = np.abs(model.coef_)\n",
    "    coefs_df = coefs_df.sort_values(\"abs_coefs\", ascending=False)\n",
    "    return coefs_df\n"
   ]
  },
  {
   "cell_type": "markdown",
   "metadata": {},
   "source": [
    "Most of the date features are not useful since they have a high percentage of missing values. As a result we will drop these columns and we only keep the confirmed- and the released-date. Next to that we rop columns patient_id, country, state and infected_by, since these won't be helpful for the further analysis.\n",
    "In a next step we will drop rows where released_date or confirmed_date is a null value. \n",
    "After that we transform the data type of these two objects from sting to datetime."
   ]
  },
  {
   "cell_type": "code",
   "execution_count": 102,
   "metadata": {},
   "outputs": [],
   "source": [
    "df = prepare_df(df);"
   ]
  },
  {
   "cell_type": "code",
   "execution_count": 92,
   "metadata": {},
   "outputs": [
    {
     "name": "stdout",
     "output_type": "stream",
     "text": [
      "<class 'pandas.core.frame.DataFrame'>\n",
      "Int64Index: 1587 entries, 0 to 5161\n",
      "Data columns (total 5 columns):\n",
      " #   Column          Non-Null Count  Dtype \n",
      "---  ------          --------------  ----- \n",
      " 0   sex             1586 non-null   object\n",
      " 1   age             1576 non-null   object\n",
      " 2   province        1587 non-null   object\n",
      " 3   infection_case  1013 non-null   object\n",
      " 4   duration        1587 non-null   int64 \n",
      "dtypes: int64(1), object(4)\n",
      "memory usage: 74.4+ KB\n"
     ]
    }
   ],
   "source": [
    "df.info()"
   ]
  },
  {
   "cell_type": "code",
   "execution_count": 93,
   "metadata": {},
   "outputs": [
    {
     "data": {
      "image/png": "[encoded data removed]",
      "text/plain": [
       "<Figure size 360x360 with 1 Axes>"
      ]
     },
     "metadata": {
      "needs_background": "light"
     },
     "output_type": "display_data"
    }
   ],
   "source": [
    "sns.displot(df['duration']);"
   ]
  },
  {
   "cell_type": "code",
   "execution_count": 94,
   "metadata": {},
   "outputs": [
    {
     "data": {
      "text/html": [
       "<div>\n",
       "<style scoped>\n",
       "    .dataframe tbody tr th:only-of-type {\n",
       "        vertical-align: middle;\n",
       "    }\n",
       "\n",
       "    .dataframe tbody tr th {\n",
       "        vertical-align: top;\n",
       "    }\n",
       "\n",
       "    .dataframe thead th {\n",
       "        text-align: right;\n",
       "    }\n",
       "</style>\n",
       "<table border=\"1\" class=\"dataframe\">\n",
       "  <thead>\n",
       "    <tr style=\"text-align: right;\">\n",
       "      <th></th>\n",
       "      <th>sex</th>\n",
       "      <th>age</th>\n",
       "      <th>province</th>\n",
       "      <th>infection_case</th>\n",
       "      <th>duration</th>\n",
       "    </tr>\n",
       "  </thead>\n",
       "  <tbody>\n",
       "    <tr>\n",
       "      <th>0</th>\n",
       "      <td>male</td>\n",
       "      <td>50s</td>\n",
       "      <td>Seoul</td>\n",
       "      <td>overseas inflow</td>\n",
       "      <td>13</td>\n",
       "    </tr>\n",
       "    <tr>\n",
       "      <th>1</th>\n",
       "      <td>male</td>\n",
       "      <td>30s</td>\n",
       "      <td>Seoul</td>\n",
       "      <td>overseas inflow</td>\n",
       "      <td>32</td>\n",
       "    </tr>\n",
       "    <tr>\n",
       "      <th>2</th>\n",
       "      <td>male</td>\n",
       "      <td>50s</td>\n",
       "      <td>Seoul</td>\n",
       "      <td>contact with patient</td>\n",
       "      <td>20</td>\n",
       "    </tr>\n",
       "    <tr>\n",
       "      <th>3</th>\n",
       "      <td>male</td>\n",
       "      <td>20s</td>\n",
       "      <td>Seoul</td>\n",
       "      <td>overseas inflow</td>\n",
       "      <td>16</td>\n",
       "    </tr>\n",
       "    <tr>\n",
       "      <th>4</th>\n",
       "      <td>female</td>\n",
       "      <td>20s</td>\n",
       "      <td>Seoul</td>\n",
       "      <td>contact with patient</td>\n",
       "      <td>24</td>\n",
       "    </tr>\n",
       "  </tbody>\n",
       "</table>\n",
       "</div>"
      ],
      "text/plain": [
       "      sex  age province        infection_case  duration\n",
       "0    male  50s    Seoul       overseas inflow        13\n",
       "1    male  30s    Seoul       overseas inflow        32\n",
       "2    male  50s    Seoul  contact with patient        20\n",
       "3    male  20s    Seoul       overseas inflow        16\n",
       "4  female  20s    Seoul  contact with patient        24"
      ]
     },
     "execution_count": 94,
     "metadata": {},
     "output_type": "execute_result"
    }
   ],
   "source": [
    "df.head()"
   ]
  },
  {
   "cell_type": "code",
   "execution_count": 103,
   "metadata": {},
   "outputs": [
    {
     "data": {
      "image/png": "[encoded data removed]",
      "text/plain": [
       "<Figure size 1080x216 with 1 Axes>"
      ]
     },
     "metadata": {
      "needs_background": "light"
     },
     "output_type": "display_data"
    }
   ],
   "source": [
    "plt.figure(figsize = (15,3))\n",
    "sns.distplot(df[df.sex == \"male\"].duration, label = \"Male\", color = \"blue\")\n",
    "sns.distplot(df[df.sex == \"female\"].duration, label = \"Female\", color = \"orange\")\n",
    "plt.xlabel(\"Duration\")\n",
    "plt.title(\"Duration of Illness for Females vs Males\")\n",
    "plt.legend(loc=\"upper right\")\n",
    "plt.show()"
   ]
  },
  {
   "cell_type": "code",
   "execution_count": 48,
   "metadata": {},
   "outputs": [
    {
     "data": {
      "image/png": "[encoded data removed]",
      "text/plain": [
       "<Figure size 1440x216 with 1 Axes>"
      ]
     },
     "metadata": {
      "needs_background": "light"
     },
     "output_type": "display_data"
    }
   ],
   "source": [
    "plt.figure(figsize = (20,3))\n",
    "sns.countplot(x = \"province\", data = df, order=df.province.value_counts().iloc[:10].index);"
   ]
  },
  {
   "cell_type": "code",
   "execution_count": 32,
   "metadata": {},
   "outputs": [
    {
     "data": {
      "image/png": "[encoded data removed]",
      "text/plain": [
       "<Figure size 1440x216 with 1 Axes>"
      ]
     },
     "metadata": {
      "needs_background": "light"
     },
     "output_type": "display_data"
    }
   ],
   "source": [
    "plt.figure(figsize = (20,3))\n",
    "sns.countplot(x = \"infection_case\", data=df, order=df.infection_case.value_counts().iloc[:5].index);"
   ]
  },
  {
   "cell_type": "markdown",
   "metadata": {},
   "source": [
    "Although no machine learning method will be applied, we want to fill missing values with their modus for every column."
   ]
  },
  {
   "cell_type": "code",
   "execution_count": 33,
   "metadata": {},
   "outputs": [],
   "source": [
    "fillna = lambda col: col.fillna(col.mode()[0])"
   ]
  },
  {
   "cell_type": "code",
   "execution_count": 34,
   "metadata": {},
   "outputs": [],
   "source": [
    "df = df.apply(fillna)"
   ]
  },
  {
   "cell_type": "code",
   "execution_count": 35,
   "metadata": {},
   "outputs": [
    {
     "name": "stdout",
     "output_type": "stream",
     "text": [
      "<class 'pandas.core.frame.DataFrame'>\n",
      "Int64Index: 1587 entries, 0 to 5161\n",
      "Data columns (total 5 columns):\n",
      " #   Column          Non-Null Count  Dtype \n",
      "---  ------          --------------  ----- \n",
      " 0   sex             1587 non-null   object\n",
      " 1   age             1587 non-null   object\n",
      " 2   province        1587 non-null   object\n",
      " 3   infection_case  1587 non-null   object\n",
      " 4   duration        1587 non-null   int64 \n",
      "dtypes: int64(1), object(4)\n",
      "memory usage: 138.9+ KB\n"
     ]
    }
   ],
   "source": [
    "df.info()"
   ]
  },
  {
   "cell_type": "code",
   "execution_count": 39,
   "metadata": {},
   "outputs": [],
   "source": [
    "X_train, X_test, y_train, y_test = create_test_train(df)"
   ]
  },
  {
   "cell_type": "markdown",
   "metadata": {},
   "source": [
    "## 4. Data Modeling"
   ]
  },
  {
   "cell_type": "markdown",
   "metadata": {},
   "source": [
    "Linear Regression"
   ]
  },
  {
   "cell_type": "code",
   "execution_count": 40,
   "metadata": {},
   "outputs": [
    {
     "data": {
      "text/plain": [
       "LinearRegression()"
      ]
     },
     "execution_count": 40,
     "metadata": {},
     "output_type": "execute_result"
    }
   ],
   "source": [
    "model = LinearRegression()\n",
    "\n",
    "model.fit(X_train,y_train)"
   ]
  },
  {
   "cell_type": "code",
   "execution_count": 46,
   "metadata": {},
   "outputs": [
    {
     "data": {
      "text/html": [
       "<div>\n",
       "<style scoped>\n",
       "    .dataframe tbody tr th:only-of-type {\n",
       "        vertical-align: middle;\n",
       "    }\n",
       "\n",
       "    .dataframe tbody tr th {\n",
       "        vertical-align: top;\n",
       "    }\n",
       "\n",
       "    .dataframe thead th {\n",
       "        text-align: right;\n",
       "    }\n",
       "</style>\n",
       "<table border=\"1\" class=\"dataframe\">\n",
       "  <thead>\n",
       "    <tr style=\"text-align: right;\">\n",
       "      <th></th>\n",
       "      <th>est_int</th>\n",
       "      <th>coefs</th>\n",
       "      <th>abs_coefs</th>\n",
       "    </tr>\n",
       "  </thead>\n",
       "  <tbody>\n",
       "    <tr>\n",
       "      <th>1</th>\n",
       "      <td>age_100s</td>\n",
       "      <td>20.440988</td>\n",
       "      <td>20.440988</td>\n",
       "    </tr>\n",
       "    <tr>\n",
       "      <th>12</th>\n",
       "      <td>province_Daegu</td>\n",
       "      <td>-16.595589</td>\n",
       "      <td>16.595589</td>\n",
       "    </tr>\n",
       "    <tr>\n",
       "      <th>33</th>\n",
       "      <td>infection_case_Milal Shelter</td>\n",
       "      <td>-15.434399</td>\n",
       "      <td>15.434399</td>\n",
       "    </tr>\n",
       "    <tr>\n",
       "      <th>37</th>\n",
       "      <td>infection_case_River of Grace Community Church</td>\n",
       "      <td>-15.080716</td>\n",
       "      <td>15.080716</td>\n",
       "    </tr>\n",
       "    <tr>\n",
       "      <th>30</th>\n",
       "      <td>infection_case_Gyeongsan Jeil Silver Town</td>\n",
       "      <td>-13.023692</td>\n",
       "      <td>13.023692</td>\n",
       "    </tr>\n",
       "    <tr>\n",
       "      <th>26</th>\n",
       "      <td>infection_case_Eunpyeong St. Mary's Hospital</td>\n",
       "      <td>-12.618453</td>\n",
       "      <td>12.618453</td>\n",
       "    </tr>\n",
       "    <tr>\n",
       "      <th>36</th>\n",
       "      <td>infection_case_Richway</td>\n",
       "      <td>-12.308132</td>\n",
       "      <td>12.308132</td>\n",
       "    </tr>\n",
       "    <tr>\n",
       "      <th>43</th>\n",
       "      <td>infection_case_gym facility in Sejong</td>\n",
       "      <td>-10.991336</td>\n",
       "      <td>10.991336</td>\n",
       "    </tr>\n",
       "    <tr>\n",
       "      <th>39</th>\n",
       "      <td>infection_case_Shincheonji Church</td>\n",
       "      <td>-10.903049</td>\n",
       "      <td>10.903049</td>\n",
       "    </tr>\n",
       "    <tr>\n",
       "      <th>31</th>\n",
       "      <td>infection_case_Gyeongsan Seorin Nursing Home</td>\n",
       "      <td>10.696873</td>\n",
       "      <td>10.696873</td>\n",
       "    </tr>\n",
       "    <tr>\n",
       "      <th>35</th>\n",
       "      <td>infection_case_Pilgrimage to Israel</td>\n",
       "      <td>-10.530764</td>\n",
       "      <td>10.530764</td>\n",
       "    </tr>\n",
       "    <tr>\n",
       "      <th>29</th>\n",
       "      <td>infection_case_Gyeongsan Cham Joeun Community ...</td>\n",
       "      <td>-10.426695</td>\n",
       "      <td>10.426695</td>\n",
       "    </tr>\n",
       "    <tr>\n",
       "      <th>41</th>\n",
       "      <td>infection_case_etc</td>\n",
       "      <td>-10.098773</td>\n",
       "      <td>10.098773</td>\n",
       "    </tr>\n",
       "    <tr>\n",
       "      <th>8</th>\n",
       "      <td>age_70s</td>\n",
       "      <td>10.000727</td>\n",
       "      <td>10.000727</td>\n",
       "    </tr>\n",
       "    <tr>\n",
       "      <th>40</th>\n",
       "      <td>infection_case_contact with patient</td>\n",
       "      <td>-9.341906</td>\n",
       "      <td>9.341906</td>\n",
       "    </tr>\n",
       "    <tr>\n",
       "      <th>44</th>\n",
       "      <td>infection_case_overseas inflow</td>\n",
       "      <td>-8.225709</td>\n",
       "      <td>8.225709</td>\n",
       "    </tr>\n",
       "    <tr>\n",
       "      <th>16</th>\n",
       "      <td>province_Gyeonggi-do</td>\n",
       "      <td>-7.837158</td>\n",
       "      <td>7.837158</td>\n",
       "    </tr>\n",
       "    <tr>\n",
       "      <th>24</th>\n",
       "      <td>province_Seoul</td>\n",
       "      <td>-7.806066</td>\n",
       "      <td>7.806066</td>\n",
       "    </tr>\n",
       "    <tr>\n",
       "      <th>42</th>\n",
       "      <td>infection_case_gym facility in Cheonan</td>\n",
       "      <td>-7.730283</td>\n",
       "      <td>7.730283</td>\n",
       "    </tr>\n",
       "    <tr>\n",
       "      <th>10</th>\n",
       "      <td>age_90s</td>\n",
       "      <td>5.929541</td>\n",
       "      <td>5.929541</td>\n",
       "    </tr>\n",
       "  </tbody>\n",
       "</table>\n",
       "</div>"
      ],
      "text/plain": [
       "                                              est_int      coefs  abs_coefs\n",
       "1                                            age_100s  20.440988  20.440988\n",
       "12                                     province_Daegu -16.595589  16.595589\n",
       "33                       infection_case_Milal Shelter -15.434399  15.434399\n",
       "37     infection_case_River of Grace Community Church -15.080716  15.080716\n",
       "30          infection_case_Gyeongsan Jeil Silver Town -13.023692  13.023692\n",
       "26       infection_case_Eunpyeong St. Mary's Hospital -12.618453  12.618453\n",
       "36                             infection_case_Richway -12.308132  12.308132\n",
       "43              infection_case_gym facility in Sejong -10.991336  10.991336\n",
       "39                  infection_case_Shincheonji Church -10.903049  10.903049\n",
       "31       infection_case_Gyeongsan Seorin Nursing Home  10.696873  10.696873\n",
       "35                infection_case_Pilgrimage to Israel -10.530764  10.530764\n",
       "29  infection_case_Gyeongsan Cham Joeun Community ... -10.426695  10.426695\n",
       "41                                 infection_case_etc -10.098773  10.098773\n",
       "8                                             age_70s  10.000727  10.000727\n",
       "40                infection_case_contact with patient  -9.341906   9.341906\n",
       "44                     infection_case_overseas inflow  -8.225709   8.225709\n",
       "16                               province_Gyeonggi-do  -7.837158   7.837158\n",
       "24                                     province_Seoul  -7.806066   7.806066\n",
       "42             infection_case_gym facility in Cheonan  -7.730283   7.730283\n",
       "10                                            age_90s   5.929541   5.929541"
      ]
     },
     "execution_count": 46,
     "metadata": {},
     "output_type": "execute_result"
    }
   ],
   "source": [
    "coef_df = coef_weights(model.coef_, X_train)\n",
    "\n",
    "coef_df.head(20)"
   ]
  }
 ],
 "metadata": {
  "kernelspec": {
   "display_name": "p1",
   "language": "python",
   "name": "p1"
  },
  "language_info": {
   "codemirror_mode": {
    "name": "ipython",
    "version": 3
   },
   "file_extension": ".py",
   "mimetype": "text/x-python",
   "name": "python",
   "nbconvert_exporter": "python",
   "pygments_lexer": "ipython3",
   "version": "3.9.1"
  }
 },
 "nbformat": 4,
 "nbformat_minor": 1
}
