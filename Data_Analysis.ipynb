{
 "cells": [
  {
   "cell_type": "markdown",
   "metadata": {},
   "source": [
    "# Analysis of Korean Corona Cases"
   ]
  },
  {
   "cell_type": "markdown",
   "metadata": {},
   "source": [
    "KCDC (Korea Centers for Disease Control & Prevention) announces the information of COVID-19 quickly and transparently.\n",
    "It provides a structured dataset based on the report materials of KCDC and local governments. This datset is available on kaggle and consists of 14 features discribing 5,165 patients infected with the Corona Virus in 2020. \n",
    "In order to define the data related questions, we will look at the data and choose features we want to conduct our analysis on."
   ]
  },
  {
   "cell_type": "code",
   "execution_count": 1,
   "metadata": {},
   "outputs": [],
   "source": [
    "import pandas as pd\n",
    "import numpy as np\n",
    "import matplotlib.pyplot as plt\n",
    "import seaborn as sns\n",
    "from sklearn.linear_model import LinearRegression\n",
    "from sklearn.ensemble import RandomForestRegressor\n",
    "from sklearn.model_selection import RandomizedSearchCV\n",
    "from sklearn.model_selection import train_test_split\n",
    "from sklearn.metrics import r2_score\n",
    "import warnings\n",
    "warnings.filterwarnings('ignore')"
   ]
  },
  {
   "cell_type": "code",
   "execution_count": 2,
   "metadata": {
    "pycharm": {
     "name": "#%%\n"
    }
   },
   "outputs": [],
   "source": [
    "# Import Dataset \n",
    "df = pd.read_csv('PatientInfo.csv')\n",
    "df_init = df"
   ]
  },
  {
   "cell_type": "code",
   "execution_count": 3,
   "metadata": {},
   "outputs": [
    {
     "data": {
      "text/html": [
       "<div>\n",
       "<style scoped>\n",
       "    .dataframe tbody tr th:only-of-type {\n",
       "        vertical-align: middle;\n",
       "    }\n",
       "\n",
       "    .dataframe tbody tr th {\n",
       "        vertical-align: top;\n",
       "    }\n",
       "\n",
       "    .dataframe thead th {\n",
       "        text-align: right;\n",
       "    }\n",
       "</style>\n",
       "<table border=\"1\" class=\"dataframe\">\n",
       "  <thead>\n",
       "    <tr style=\"text-align: right;\">\n",
       "      <th></th>\n",
       "      <th>patient_id</th>\n",
       "      <th>sex</th>\n",
       "      <th>age</th>\n",
       "      <th>country</th>\n",
       "      <th>province</th>\n",
       "      <th>city</th>\n",
       "      <th>infection_case</th>\n",
       "      <th>infected_by</th>\n",
       "      <th>contact_number</th>\n",
       "      <th>symptom_onset_date</th>\n",
       "      <th>confirmed_date</th>\n",
       "      <th>released_date</th>\n",
       "      <th>deceased_date</th>\n",
       "      <th>state</th>\n",
       "    </tr>\n",
       "  </thead>\n",
       "  <tbody>\n",
       "    <tr>\n",
       "      <th>0</th>\n",
       "      <td>1000000001</td>\n",
       "      <td>male</td>\n",
       "      <td>50s</td>\n",
       "      <td>Korea</td>\n",
       "      <td>Seoul</td>\n",
       "      <td>Gangseo-gu</td>\n",
       "      <td>overseas inflow</td>\n",
       "      <td>NaN</td>\n",
       "      <td>75</td>\n",
       "      <td>2020-01-22</td>\n",
       "      <td>2020-01-23</td>\n",
       "      <td>2020-02-05</td>\n",
       "      <td>NaN</td>\n",
       "      <td>released</td>\n",
       "    </tr>\n",
       "    <tr>\n",
       "      <th>1</th>\n",
       "      <td>1000000002</td>\n",
       "      <td>male</td>\n",
       "      <td>30s</td>\n",
       "      <td>Korea</td>\n",
       "      <td>Seoul</td>\n",
       "      <td>Jungnang-gu</td>\n",
       "      <td>overseas inflow</td>\n",
       "      <td>NaN</td>\n",
       "      <td>31</td>\n",
       "      <td>NaN</td>\n",
       "      <td>2020-01-30</td>\n",
       "      <td>2020-03-02</td>\n",
       "      <td>NaN</td>\n",
       "      <td>released</td>\n",
       "    </tr>\n",
       "    <tr>\n",
       "      <th>2</th>\n",
       "      <td>1000000003</td>\n",
       "      <td>male</td>\n",
       "      <td>50s</td>\n",
       "      <td>Korea</td>\n",
       "      <td>Seoul</td>\n",
       "      <td>Jongno-gu</td>\n",
       "      <td>contact with patient</td>\n",
       "      <td>2.002000e+09</td>\n",
       "      <td>17</td>\n",
       "      <td>NaN</td>\n",
       "      <td>2020-01-30</td>\n",
       "      <td>2020-02-19</td>\n",
       "      <td>NaN</td>\n",
       "      <td>released</td>\n",
       "    </tr>\n",
       "    <tr>\n",
       "      <th>3</th>\n",
       "      <td>1000000004</td>\n",
       "      <td>male</td>\n",
       "      <td>20s</td>\n",
       "      <td>Korea</td>\n",
       "      <td>Seoul</td>\n",
       "      <td>Mapo-gu</td>\n",
       "      <td>overseas inflow</td>\n",
       "      <td>NaN</td>\n",
       "      <td>9</td>\n",
       "      <td>2020-01-26</td>\n",
       "      <td>2020-01-30</td>\n",
       "      <td>2020-02-15</td>\n",
       "      <td>NaN</td>\n",
       "      <td>released</td>\n",
       "    </tr>\n",
       "    <tr>\n",
       "      <th>4</th>\n",
       "      <td>1000000005</td>\n",
       "      <td>female</td>\n",
       "      <td>20s</td>\n",
       "      <td>Korea</td>\n",
       "      <td>Seoul</td>\n",
       "      <td>Seongbuk-gu</td>\n",
       "      <td>contact with patient</td>\n",
       "      <td>1.000000e+09</td>\n",
       "      <td>2</td>\n",
       "      <td>NaN</td>\n",
       "      <td>2020-01-31</td>\n",
       "      <td>2020-02-24</td>\n",
       "      <td>NaN</td>\n",
       "      <td>released</td>\n",
       "    </tr>\n",
       "  </tbody>\n",
       "</table>\n",
       "</div>"
      ],
      "text/plain": [
       "   patient_id     sex  age country province         city  \\\n",
       "0  1000000001    male  50s   Korea    Seoul   Gangseo-gu   \n",
       "1  1000000002    male  30s   Korea    Seoul  Jungnang-gu   \n",
       "2  1000000003    male  50s   Korea    Seoul    Jongno-gu   \n",
       "3  1000000004    male  20s   Korea    Seoul      Mapo-gu   \n",
       "4  1000000005  female  20s   Korea    Seoul  Seongbuk-gu   \n",
       "\n",
       "         infection_case   infected_by contact_number symptom_onset_date  \\\n",
       "0       overseas inflow           NaN             75         2020-01-22   \n",
       "1       overseas inflow           NaN             31                NaN   \n",
       "2  contact with patient  2.002000e+09             17                NaN   \n",
       "3       overseas inflow           NaN              9         2020-01-26   \n",
       "4  contact with patient  1.000000e+09              2                NaN   \n",
       "\n",
       "  confirmed_date released_date deceased_date     state  \n",
       "0     2020-01-23    2020-02-05           NaN  released  \n",
       "1     2020-01-30    2020-03-02           NaN  released  \n",
       "2     2020-01-30    2020-02-19           NaN  released  \n",
       "3     2020-01-30    2020-02-15           NaN  released  \n",
       "4     2020-01-31    2020-02-24           NaN  released  "
      ]
     },
     "execution_count": 3,
     "metadata": {},
     "output_type": "execute_result"
    }
   ],
   "source": [
    "df.head(5)"
   ]
  },
  {
   "cell_type": "code",
   "execution_count": 4,
   "metadata": {},
   "outputs": [
    {
     "name": "stdout",
     "output_type": "stream",
     "text": [
      "<class 'pandas.core.frame.DataFrame'>\n",
      "RangeIndex: 5165 entries, 0 to 5164\n",
      "Data columns (total 14 columns):\n",
      " #   Column              Non-Null Count  Dtype  \n",
      "---  ------              --------------  -----  \n",
      " 0   patient_id          5165 non-null   object \n",
      " 1   sex                 4042 non-null   object \n",
      " 2   age                 3784 non-null   object \n",
      " 3   country             5164 non-null   object \n",
      " 4   province            5164 non-null   object \n",
      " 5   city                5070 non-null   object \n",
      " 6   infection_case      4245 non-null   object \n",
      " 7   infected_by         1345 non-null   float64\n",
      " 8   contact_number      791 non-null    object \n",
      " 9   symptom_onset_date  690 non-null    object \n",
      " 10  confirmed_date      5161 non-null   object \n",
      " 11  released_date       1587 non-null   object \n",
      " 12  deceased_date       66 non-null     object \n",
      " 13  state               5164 non-null   object \n",
      "dtypes: float64(1), object(13)\n",
      "memory usage: 565.0+ KB\n"
     ]
    }
   ],
   "source": [
    "df.info()"
   ]
  },
  {
   "cell_type": "markdown",
   "metadata": {},
   "source": [
    "A first glance at the data shows that the datset provides some demographic information in combination with information about the location, the timestamp and the case of infection. Some of these features present a high percentage of null values which makes them inappropriate for the following analysis."
   ]
  },
  {
   "cell_type": "markdown",
   "metadata": {},
   "source": [
    "## 1. Business Understanding"
   ]
  },
  {
   "cell_type": "markdown",
   "metadata": {},
   "source": [
    "In order to start the analysis, we have to define the questions we want to answer. As we have three columns that describe the patients' location, we decide to focus on the feature \"province\" to describe the location and drop the rest. Next to that, the dataset provides demographic features, which describe the sex and age of the patient. Another interesting topic to investigate is the duration of illness, since the dataset offers sufficient time related information. Before we precisely define the questions we want to answer, we have to check if the columns of the datset are suited, especially in terms of missing values."
   ]
  },
  {
   "cell_type": "markdown",
   "metadata": {},
   "source": [
    "## 2. Data Understanding"
   ]
  },
  {
   "cell_type": "code",
   "execution_count": 5,
   "metadata": {},
   "outputs": [
    {
     "name": "stdout",
     "output_type": "stream",
     "text": [
      "Fraction of NA's in column sympton_onset_date: 0.8664085188770572\n",
      "Fraction of NA's in column confirmed_date: 0.0007744433688286545\n",
      "Fraction of NA's in column released_date: 0.6927395934172313\n",
      "Fraction of NA's in column deceased_date: 0.9872216844143272\n",
      "\n"
     ]
    }
   ],
   "source": [
    "print(f\"Fraction of NA's in column sympton_onset_date: {df['symptom_onset_date'].isna().mean()}\\n\\\n",
    "Fraction of NA's in column confirmed_date: {df['confirmed_date'].isna().mean()}\\n\\\n",
    "Fraction of NA's in column released_date: {df['released_date'].isna().mean()}\\n\\\n",
    "Fraction of NA's in column deceased_date: {df['deceased_date'].isna().mean()}\\n\")"
   ]
  },
  {
   "cell_type": "markdown",
   "metadata": {},
   "source": [
    "Here we can see that the provided time features show a lot of missing values. To further investigate the duration of the infection, we have to decide on two columns we want to build this feature with. Since symptom_onset_date and deceased_date have the highest portion of null values, we will drop these features and engineer the feature \"duration\" with help of the remaining two columns in the upcoming section. As we have already seen in the initial data exploration, sex and age also include some missing values, which we will care about in the next section as well. \n",
    "After the first two steps we define the following 3 questions, we will take a closer look at in the further analysis:\n",
    "\n",
    "#### a) Which province had the most Corona cases?\n",
    "#### b) Is there any difference in duration of illness for male vs female citizen? \n",
    "#### d) Which features have the biggest influence on the duration of the infection? "
   ]
  },
  {
   "cell_type": "markdown",
   "metadata": {},
   "source": [
    "## 3. Data Preparation"
   ]
  },
  {
   "cell_type": "markdown",
   "metadata": {},
   "source": [
    "Befor we can start our analysis and model the data, we have to prepare it. We will do this with help of the function prepare_df. This function includes dropping null values for the two columns confirmed_date and released_date. After that, we transform these columns to datetime objects, in order to engineer the duration feature. In a next step, we use the function time_to_integer, to extract the days from the datetime object and safe it as an integer. As a last step we drop the columns we will not use in the upcoming analysis."
   ]
  },
  {
   "cell_type": "code",
   "execution_count": 6,
   "metadata": {},
   "outputs": [],
   "source": [
    "def time_to_integer(time):\n",
    "    \"\"\"Extracts days from datetime object\n",
    "    :param time:\n",
    "        datetime object\n",
    "    :return:\n",
    "        days of datetime object\n",
    "    \"\"\"\n",
    "    time = str(time)\n",
    "    t, _, _ = time.split(\" \")\n",
    "    return int(t)\n",
    "\n",
    "\n",
    "def prepare_df(df):\n",
    "    \"\"\"Function to drop prepare the initial dataframe. This includes dropping NA's in confirmed_data, released_date\n",
    "    and afterwards transforming these columns to datetime objects. After that a new feature \"duration\" is created and\n",
    "    unnecessary columns are being dropped\n",
    "    :param df:\n",
    "        dataframe to be prepared\n",
    "    :return:\n",
    "        prepared dataframe\n",
    "    \"\"\"\n",
    "    df = df.dropna(subset=[\"confirmed_date\", \"released_date\"])\n",
    "    assert df.confirmed_date.isna().sum != 0 or df.released_date != 0\n",
    "    df[[\"confirmed_date\", \"released_date\"]] = df[\n",
    "        [\"confirmed_date\", \"released_date\"]\n",
    "    ].apply(pd.to_datetime)\n",
    "    df[\"duration\"] = df[\"released_date\"] - df[\"confirmed_date\"]\n",
    "    df[\"duration\"] = df[\"duration\"].apply(time_to_integer)\n",
    "    df = df.drop(\n",
    "        [\n",
    "            \"symptom_onset_date\",\n",
    "            \"deceased_date\",\n",
    "            \"patient_id\",\n",
    "            \"country\",\n",
    "            \"infected_by\",\n",
    "            \"state\",\n",
    "            \"contact_number\",\n",
    "            \"confirmed_date\",\n",
    "            \"released_date\",\n",
    "            \"city\",\n",
    "            \"infection_case\"\n",
    "        ],\n",
    "        axis=1,\n",
    "    )\n",
    "\n",
    "    return df"
   ]
  },
  {
   "cell_type": "code",
   "execution_count": 7,
   "metadata": {},
   "outputs": [],
   "source": [
    "df = prepare_df(df);"
   ]
  },
  {
   "cell_type": "code",
   "execution_count": 8,
   "metadata": {},
   "outputs": [
    {
     "name": "stdout",
     "output_type": "stream",
     "text": [
      "<class 'pandas.core.frame.DataFrame'>\n",
      "Int64Index: 1587 entries, 0 to 5161\n",
      "Data columns (total 4 columns):\n",
      " #   Column    Non-Null Count  Dtype \n",
      "---  ------    --------------  ----- \n",
      " 0   sex       1586 non-null   object\n",
      " 1   age       1576 non-null   object\n",
      " 2   province  1587 non-null   object\n",
      " 3   duration  1587 non-null   int64 \n",
      "dtypes: int64(1), object(3)\n",
      "memory usage: 62.0+ KB\n"
     ]
    }
   ],
   "source": [
    "df.info()"
   ]
  },
  {
   "cell_type": "markdown",
   "metadata": {},
   "source": [
    "Now we can observe, that we still have some missing values in the demographic columns sex and age. As our Machine Learning algorithm, we will use to answer question c) can not handle missing values, we will fill them with the mode of the respective column."
   ]
  },
  {
   "cell_type": "code",
   "execution_count": 9,
   "metadata": {},
   "outputs": [],
   "source": [
    "fillna = lambda col: col.fillna(col.mode()[0])\n",
    "df = df.apply(fillna)"
   ]
  },
  {
   "cell_type": "code",
   "execution_count": 10,
   "metadata": {},
   "outputs": [
    {
     "name": "stdout",
     "output_type": "stream",
     "text": [
      "<class 'pandas.core.frame.DataFrame'>\n",
      "Int64Index: 1587 entries, 0 to 5161\n",
      "Data columns (total 4 columns):\n",
      " #   Column    Non-Null Count  Dtype \n",
      "---  ------    --------------  ----- \n",
      " 0   sex       1587 non-null   object\n",
      " 1   age       1587 non-null   object\n",
      " 2   province  1587 non-null   object\n",
      " 3   duration  1587 non-null   int64 \n",
      "dtypes: int64(1), object(3)\n",
      "memory usage: 62.0+ KB\n"
     ]
    }
   ],
   "source": [
    "df.info()"
   ]
  },
  {
   "cell_type": "markdown",
   "metadata": {},
   "source": [
    "This final dataframe consists only of the features that we need to answer our questions and does not contain any null values."
   ]
  },
  {
   "cell_type": "markdown",
   "metadata": {},
   "source": [
    "## 4. Data Modeling and Evaluation"
   ]
  },
  {
   "cell_type": "markdown",
   "metadata": {},
   "source": [
    "### a) Which province had the most Corona cases?"
   ]
  },
  {
   "cell_type": "markdown",
   "metadata": {},
   "source": [
    "In order not to distort the statistics we will use the initial dataframe to answer this question. Initial dataframe means that we retain the instances we dropped in the prepare_df column. These instances were the ones, we had a null value in either the confirmed_date or the released_date. If we would use the prepared dataframe to answer this question, we would distort the initial cases' counts in the different provinces. \n",
    "In the plot, we can see that Seoul had the most cases, followed by Gyeongsangbuk-do and Gyeonggi-do. The rest of the cases are distributed across another 14 provinces."
   ]
  },
  {
   "cell_type": "code",
   "execution_count": 1,
   "metadata": {},
   "outputs": [
    {
     "ename": "NameError",
     "evalue": "name 'plt' is not defined",
     "output_type": "error",
     "traceback": [
      "\u001b[1;31m---------------------------------------------------------------------------\u001b[0m",
      "\u001b[1;31mNameError\u001b[0m                                 Traceback (most recent call last)",
      "\u001b[1;32m<ipython-input-1-9221d4d1a077>\u001b[0m in \u001b[0;36m<module>\u001b[1;34m\u001b[0m\n\u001b[1;32m----> 1\u001b[1;33m \u001b[0mplt\u001b[0m\u001b[1;33m.\u001b[0m\u001b[0mfigure\u001b[0m\u001b[1;33m(\u001b[0m\u001b[0mfigsize\u001b[0m \u001b[1;33m=\u001b[0m \u001b[1;33m(\u001b[0m\u001b[1;36m20\u001b[0m\u001b[1;33m,\u001b[0m\u001b[1;36m3\u001b[0m\u001b[1;33m)\u001b[0m\u001b[1;33m)\u001b[0m\u001b[1;33m\u001b[0m\u001b[1;33m\u001b[0m\u001b[0m\n\u001b[0m\u001b[0;32m      2\u001b[0m \u001b[0msns\u001b[0m\u001b[1;33m.\u001b[0m\u001b[0mcountplot\u001b[0m\u001b[1;33m(\u001b[0m\u001b[0mx\u001b[0m \u001b[1;33m=\u001b[0m \u001b[1;34m\"province\"\u001b[0m\u001b[1;33m,\u001b[0m \u001b[0mdata\u001b[0m \u001b[1;33m=\u001b[0m \u001b[0mdf_init\u001b[0m\u001b[1;33m,\u001b[0m \u001b[0morder\u001b[0m\u001b[1;33m=\u001b[0m\u001b[0mdf_init\u001b[0m\u001b[1;33m.\u001b[0m\u001b[0mprovince\u001b[0m\u001b[1;33m.\u001b[0m\u001b[0mvalue_counts\u001b[0m\u001b[1;33m(\u001b[0m\u001b[1;33m)\u001b[0m\u001b[1;33m.\u001b[0m\u001b[0miloc\u001b[0m\u001b[1;33m[\u001b[0m\u001b[1;33m:\u001b[0m\u001b[1;36m20\u001b[0m\u001b[1;33m]\u001b[0m\u001b[1;33m.\u001b[0m\u001b[0mindex\u001b[0m\u001b[1;33m)\u001b[0m\u001b[1;33m\u001b[0m\u001b[1;33m\u001b[0m\u001b[0m\n\u001b[0;32m      3\u001b[0m \u001b[0mplt\u001b[0m\u001b[1;33m.\u001b[0m\u001b[0mtitle\u001b[0m\u001b[1;33m(\u001b[0m\u001b[1;34m\"Count of Corona infections across the 17 provinces of Korea\"\u001b[0m\u001b[1;33m)\u001b[0m\u001b[1;33m\u001b[0m\u001b[1;33m\u001b[0m\u001b[0m\n\u001b[0;32m      4\u001b[0m \u001b[0mplt\u001b[0m\u001b[1;33m.\u001b[0m\u001b[0mxticks\u001b[0m\u001b[1;33m(\u001b[0m\u001b[0mrotation\u001b[0m\u001b[1;33m=\u001b[0m\u001b[1;36m45\u001b[0m\u001b[1;33m)\u001b[0m\u001b[1;33m;\u001b[0m\u001b[1;33m\u001b[0m\u001b[1;33m\u001b[0m\u001b[0m\n",
      "\u001b[1;31mNameError\u001b[0m: name 'plt' is not defined"
     ]
    }
   ],
   "source": [
    "plt.figure(figsize = (20,3))\n",
    "sns.countplot(x = \"province\", data = df_init, order=df_init.province.value_counts().iloc[:20].index)\n",
    "plt.title(\"Count of Corona infections across the 17 provinces of Korea\")\n",
    "plt.xticks(rotation=45);"
   ]
  },
  {
   "cell_type": "markdown",
   "metadata": {},
   "source": [
    "The second barplot shows the distribution of infections across provinces after preparing the dataframe as described below. Here we can see a completely different distribution. Comparing these two barplots, we suppose that the provinces Seoul and Gyeonggi-do tracked the dates of infection (confirmed_date and released_date) very poorly. In contrast, Incheon tracked a high portion of its Corona infections' dates."
   ]
  },
  {
   "cell_type": "code",
   "execution_count": 101,
   "metadata": {},
   "outputs": [
    {
     "data": {
      "image/png": "[encoded data removed]",
      "text/plain": [
       "<Figure size 1440x216 with 1 Axes>"
      ]
     },
     "metadata": {
      "needs_background": "light"
     },
     "output_type": "display_data"
    }
   ],
   "source": [
    "plt.figure(figsize = (20,3))\n",
    "sns.countplot(x = \"province\", data = df, order=df.province.value_counts().iloc[:20].index)\n",
    "plt.xticks(rotation=45);"
   ]
  },
  {
   "cell_type": "markdown",
   "metadata": {},
   "source": [
    "### b) Is there any difference in duration of illness for male vs female patients? "
   ]
  },
  {
   "cell_type": "markdown",
   "metadata": {},
   "source": [
    "The next question we want to investigate is, if there is a difference in duration for male vs female citizen. To solve this question we plot the histograms for both genders and added a density line on these. Here we can see, that there is a higher peak for females in the duration around 18 days in comparison to the males. On the other hand, the density is a bit higher in the interval of 1-15 days. \n",
    "In conclusion, there are no significant differences in duration across the gender, although we can note some differences in the density lines. "
   ]
  },
  {
   "cell_type": "code",
   "execution_count": 102,
   "metadata": {},
   "outputs": [
    {
     "data": {
      "image/png": "[encoded data removed]",
      "text/plain": [
       "<Figure size 1080x216 with 1 Axes>"
      ]
     },
     "metadata": {
      "needs_background": "light"
     },
     "output_type": "display_data"
    }
   ],
   "source": [
    "plt.figure(figsize = (15,3))\n",
    "sns.distplot(df[df.sex == \"male\"].duration, label = \"Male\", color = \"blue\")\n",
    "sns.distplot(df[df.sex == \"female\"].duration, label = \"Female\", color = \"orange\")\n",
    "plt.xlabel(\"Duration\")\n",
    "plt.title(\"Duration of Illness for Females vs Males\")\n",
    "plt.legend(loc=\"upper right\")\n",
    "plt.show()"
   ]
  },
  {
   "cell_type": "markdown",
   "metadata": {},
   "source": [
    "### d) Which of the patients' properties have the biggest influence on the duration of the infection? "
   ]
  },
  {
   "cell_type": "markdown",
   "metadata": {},
   "source": [
    "In order to answer this question, we will use a Linear Regression. We chose this algorithm, since its results are easy to interpret. Before we do so, we have to dummy code the categoric variables, since this algorithm is not able to deal with categoric variables. After that we split the dependend variable duration from the rest of the data and create a train and test set, in order to be able to evaluate our model's predictions with data the model has not seen yet. We merge all these steps into the function create_test_train() and apply it on the dataframe."
   ]
  },
  {
   "cell_type": "code",
   "execution_count": 103,
   "metadata": {},
   "outputs": [],
   "source": [
    "def create_test_train(df):\n",
    "    \"\"\"\n",
    "    Creates dummy columns for categoric features and splits into test and train for X and y.\n",
    "    :param df:\n",
    "        dataframe with categoric columns\n",
    "    :return:\n",
    "        X_train and y_train to be used for Regression fit and X_test and y_Test for testing the model on unseen data\n",
    "    \"\"\"\n",
    "    cat_vars = df.select_dtypes(include=[\"object\"]).copy().columns\n",
    "    for var in cat_vars:\n",
    "        df = pd.concat(\n",
    "            [\n",
    "                df.drop(var, axis=1),\n",
    "                pd.get_dummies(df[var], prefix=var, prefix_sep=\"_\", drop_first=True),\n",
    "            ],\n",
    "            axis=1,\n",
    "        )\n",
    "\n",
    "    X = df.drop(\"duration\", axis=1)\n",
    "    y = df[\"duration\"]\n",
    "\n",
    "    X_train, X_test, y_train, y_test = train_test_split(\n",
    "        X, y, test_size=0.2, random_state=42\n",
    "    )\n",
    "\n",
    "    return X_train, X_test, y_train, y_test"
   ]
  },
  {
   "cell_type": "code",
   "execution_count": 104,
   "metadata": {},
   "outputs": [],
   "source": [
    "X_train, X_test, y_train, y_test = create_test_train(df)"
   ]
  },
  {
   "cell_type": "code",
   "execution_count": 105,
   "metadata": {},
   "outputs": [
    {
     "data": {
      "text/plain": [
       "LinearRegression()"
      ]
     },
     "execution_count": 105,
     "metadata": {},
     "output_type": "execute_result"
    }
   ],
   "source": [
    "model = LinearRegression()\n",
    "\n",
    "model.fit(X_train, y_train)"
   ]
  },
  {
   "cell_type": "markdown",
   "metadata": {},
   "source": [
    "In order to answer the question, we now investigate the coefficients - our model estimated - by fitting the training data:"
   ]
  },
  {
   "cell_type": "code",
   "execution_count": 106,
   "metadata": {},
   "outputs": [],
   "source": [
    "def coef_weights(coefficients, X_train):\n",
    "    \"\"\"\n",
    "    Provides a dataframe that can be used to understand the most influential coefficients\n",
    "    in a linear model by providing the coefficient estimates along with the name of the\n",
    "    variable attached to the coefficient.\n",
    "    :param coefficients\n",
    "        the coefficients of the linear model\n",
    "    :param X_train\n",
    "        the training data, so the column names can be used\n",
    "    :return:\n",
    "        coefs_df - a dataframe holding the coefficient, estimate, and abs(estimate)\n",
    "    \"\"\"\n",
    "    coefs_df = pd.DataFrame()\n",
    "    coefs_df[\"est_int\"] = X_train.columns\n",
    "    coefs_df[\"coefs\"] = model.coef_\n",
    "    coefs_df[\"abs_coefs\"] = np.abs(model.coef_)\n",
    "    coefs_df = coefs_df.sort_values(\"abs_coefs\", ascending=False)\n",
    "    return coefs_df"
   ]
  },
  {
   "cell_type": "code",
   "execution_count": 107,
   "metadata": {},
   "outputs": [
    {
     "data": {
      "text/html": [
       "<div>\n",
       "<style scoped>\n",
       "    .dataframe tbody tr th:only-of-type {\n",
       "        vertical-align: middle;\n",
       "    }\n",
       "\n",
       "    .dataframe tbody tr th {\n",
       "        vertical-align: top;\n",
       "    }\n",
       "\n",
       "    .dataframe thead th {\n",
       "        text-align: right;\n",
       "    }\n",
       "</style>\n",
       "<table border=\"1\" class=\"dataframe\">\n",
       "  <thead>\n",
       "    <tr style=\"text-align: right;\">\n",
       "      <th></th>\n",
       "      <th>est_int</th>\n",
       "      <th>coefs</th>\n",
       "      <th>abs_coefs</th>\n",
       "    </tr>\n",
       "  </thead>\n",
       "  <tbody>\n",
       "    <tr>\n",
       "      <th>1</th>\n",
       "      <td>age_100s</td>\n",
       "      <td>41.224556</td>\n",
       "      <td>41.224556</td>\n",
       "    </tr>\n",
       "    <tr>\n",
       "      <th>12</th>\n",
       "      <td>province_Daegu</td>\n",
       "      <td>-17.725436</td>\n",
       "      <td>17.725436</td>\n",
       "    </tr>\n",
       "    <tr>\n",
       "      <th>8</th>\n",
       "      <td>age_70s</td>\n",
       "      <td>10.058049</td>\n",
       "      <td>10.058049</td>\n",
       "    </tr>\n",
       "    <tr>\n",
       "      <th>9</th>\n",
       "      <td>age_80s</td>\n",
       "      <td>9.558837</td>\n",
       "      <td>9.558837</td>\n",
       "    </tr>\n",
       "    <tr>\n",
       "      <th>24</th>\n",
       "      <td>province_Seoul</td>\n",
       "      <td>-8.107969</td>\n",
       "      <td>8.107969</td>\n",
       "    </tr>\n",
       "    <tr>\n",
       "      <th>16</th>\n",
       "      <td>province_Gyeonggi-do</td>\n",
       "      <td>-7.875213</td>\n",
       "      <td>7.875213</td>\n",
       "    </tr>\n",
       "    <tr>\n",
       "      <th>23</th>\n",
       "      <td>province_Sejong</td>\n",
       "      <td>5.823825</td>\n",
       "      <td>5.823825</td>\n",
       "    </tr>\n",
       "    <tr>\n",
       "      <th>10</th>\n",
       "      <td>age_90s</td>\n",
       "      <td>4.985517</td>\n",
       "      <td>4.985517</td>\n",
       "    </tr>\n",
       "    <tr>\n",
       "      <th>14</th>\n",
       "      <td>province_Gangwon-do</td>\n",
       "      <td>-4.807489</td>\n",
       "      <td>4.807489</td>\n",
       "    </tr>\n",
       "    <tr>\n",
       "      <th>15</th>\n",
       "      <td>province_Gwangju</td>\n",
       "      <td>-4.172708</td>\n",
       "      <td>4.172708</td>\n",
       "    </tr>\n",
       "    <tr>\n",
       "      <th>2</th>\n",
       "      <td>age_10s</td>\n",
       "      <td>-3.680420</td>\n",
       "      <td>3.680420</td>\n",
       "    </tr>\n",
       "    <tr>\n",
       "      <th>21</th>\n",
       "      <td>province_Jeollabuk-do</td>\n",
       "      <td>3.616802</td>\n",
       "      <td>3.616802</td>\n",
       "    </tr>\n",
       "    <tr>\n",
       "      <th>7</th>\n",
       "      <td>age_60s</td>\n",
       "      <td>3.058902</td>\n",
       "      <td>3.058902</td>\n",
       "    </tr>\n",
       "    <tr>\n",
       "      <th>17</th>\n",
       "      <td>province_Gyeongsangbuk-do</td>\n",
       "      <td>2.975740</td>\n",
       "      <td>2.975740</td>\n",
       "    </tr>\n",
       "    <tr>\n",
       "      <th>11</th>\n",
       "      <td>province_Chungcheongnam-do</td>\n",
       "      <td>2.193685</td>\n",
       "      <td>2.193685</td>\n",
       "    </tr>\n",
       "    <tr>\n",
       "      <th>19</th>\n",
       "      <td>province_Incheon</td>\n",
       "      <td>2.014079</td>\n",
       "      <td>2.014079</td>\n",
       "    </tr>\n",
       "    <tr>\n",
       "      <th>22</th>\n",
       "      <td>province_Jeollanam-do</td>\n",
       "      <td>1.779302</td>\n",
       "      <td>1.779302</td>\n",
       "    </tr>\n",
       "    <tr>\n",
       "      <th>0</th>\n",
       "      <td>sex_male</td>\n",
       "      <td>1.548485</td>\n",
       "      <td>1.548485</td>\n",
       "    </tr>\n",
       "    <tr>\n",
       "      <th>20</th>\n",
       "      <td>province_Jeju-do</td>\n",
       "      <td>1.207709</td>\n",
       "      <td>1.207709</td>\n",
       "    </tr>\n",
       "    <tr>\n",
       "      <th>13</th>\n",
       "      <td>province_Daejeon</td>\n",
       "      <td>1.164222</td>\n",
       "      <td>1.164222</td>\n",
       "    </tr>\n",
       "  </tbody>\n",
       "</table>\n",
       "</div>"
      ],
      "text/plain": [
       "                       est_int      coefs  abs_coefs\n",
       "1                     age_100s  41.224556  41.224556\n",
       "12              province_Daegu -17.725436  17.725436\n",
       "8                      age_70s  10.058049  10.058049\n",
       "9                      age_80s   9.558837   9.558837\n",
       "24              province_Seoul  -8.107969   8.107969\n",
       "16        province_Gyeonggi-do  -7.875213   7.875213\n",
       "23             province_Sejong   5.823825   5.823825\n",
       "10                     age_90s   4.985517   4.985517\n",
       "14         province_Gangwon-do  -4.807489   4.807489\n",
       "15            province_Gwangju  -4.172708   4.172708\n",
       "2                      age_10s  -3.680420   3.680420\n",
       "21       province_Jeollabuk-do   3.616802   3.616802\n",
       "7                      age_60s   3.058902   3.058902\n",
       "17   province_Gyeongsangbuk-do   2.975740   2.975740\n",
       "11  province_Chungcheongnam-do   2.193685   2.193685\n",
       "19            province_Incheon   2.014079   2.014079\n",
       "22       province_Jeollanam-do   1.779302   1.779302\n",
       "0                     sex_male   1.548485   1.548485\n",
       "20            province_Jeju-do   1.207709   1.207709\n",
       "13            province_Daejeon   1.164222   1.164222"
      ]
     },
     "execution_count": 107,
     "metadata": {},
     "output_type": "execute_result"
    }
   ],
   "source": [
    "coef_df = coef_weights(model.coef_, X_train)\n",
    "\n",
    "coef_df.head(20)"
   ]
  },
  {
   "cell_type": "markdown",
   "metadata": {},
   "source": [
    "Here we can see that the dummy coded column age_100s has the highest coefficient of our Linear Regression model. This means that this variable has the highest influence on the duration of illness. The second highest absolute coefficient is the province_Daegu column. Since its coefficient is negative, it seems to have a negative influence on the duration of illness. This could imply that the province Daegu has a good healthcare system in comparison to the other provinces.\n",
    "Next to these two columns, the dummy variables age_70s and age_80s have a relative high coefficient. This is a intuitive finding, because a higher age usually implies a worse course of the corona disease. Additionally, our findings from question b) can be proved: Since the coefficient for the variable sex_male is very low, there is no big influence of the gender on the infection's duration."
   ]
  },
  {
   "cell_type": "markdown",
   "metadata": {},
   "source": [
    "Next to the interpretation of the coefficients, we can make predictions with our model: "
   ]
  },
  {
   "cell_type": "code",
   "execution_count": 108,
   "metadata": {},
   "outputs": [
    {
     "data": {
      "text/plain": [
       "array([23.30468045, 24.08673518, 26.43568773, 17.58459435, 24.04885556])"
      ]
     },
     "execution_count": 108,
     "metadata": {},
     "output_type": "execute_result"
    }
   ],
   "source": [
    "preds = model.predict(X_test)\n",
    "preds[0:5]"
   ]
  },
  {
   "cell_type": "markdown",
   "metadata": {},
   "source": [
    "After that we want to evaluate these predictions on our test data. A good measurement for regression problems is the R-squared. It is defined between 0 and 1 and the higher its value, the better the models predictions."
   ]
  },
  {
   "cell_type": "code",
   "execution_count": 109,
   "metadata": {},
   "outputs": [
    {
     "data": {
      "text/plain": [
       "0.07998722173868267"
      ]
     },
     "execution_count": 109,
     "metadata": {},
     "output_type": "execute_result"
    }
   ],
   "source": [
    "r2_score(y_test, preds)"
   ]
  },
  {
   "cell_type": "markdown",
   "metadata": {},
   "source": [
    "This measurement returns a value of around 8%. This means that our model is not able to predict the durations well. This is sometimes the case when it comes to the application of Linear Regression models, because it requires a **linear** relation between the dependend and the independend variable. Another problem can be that the picked variables are not able to predict the duration well. To investigate if it is just a nonlinear relation that causes these bad results, we will try to train a Random Forest and evaluate the results analogous to the previous procedure. "
   ]
  },
  {
   "cell_type": "code",
   "execution_count": 110,
   "metadata": {},
   "outputs": [],
   "source": [
    "rf_model = RandomForestRegressor()"
   ]
  },
  {
   "cell_type": "code",
   "execution_count": 111,
   "metadata": {},
   "outputs": [
    {
     "data": {
      "text/plain": [
       "RandomForestRegressor()"
      ]
     },
     "execution_count": 111,
     "metadata": {},
     "output_type": "execute_result"
    }
   ],
   "source": [
    "rf_model.fit(X_train, y_train)"
   ]
  },
  {
   "cell_type": "code",
   "execution_count": 112,
   "metadata": {},
   "outputs": [
    {
     "data": {
      "text/plain": [
       "array([19.31720349, 25.0506787 , 26.14393459, 17.75380952, 25.5608575 ])"
      ]
     },
     "execution_count": 112,
     "metadata": {},
     "output_type": "execute_result"
    }
   ],
   "source": [
    "preds_rf = rf_model.predict(X_test)\n",
    "preds_rf[0:5]"
   ]
  },
  {
   "cell_type": "code",
   "execution_count": 113,
   "metadata": {},
   "outputs": [
    {
     "data": {
      "text/plain": [
       "0.04680342869851506"
      ]
     },
     "execution_count": 113,
     "metadata": {},
     "output_type": "execute_result"
    }
   ],
   "source": [
    "r2_score(y_test, preds_rf)"
   ]
  },
  {
   "cell_type": "code",
   "execution_count": 114,
   "metadata": {},
   "outputs": [
    {
     "data": {
      "text/plain": [
       "{'bootstrap': True,\n",
       " 'ccp_alpha': 0.0,\n",
       " 'criterion': 'mse',\n",
       " 'max_depth': None,\n",
       " 'max_features': 'auto',\n",
       " 'max_leaf_nodes': None,\n",
       " 'max_samples': None,\n",
       " 'min_impurity_decrease': 0.0,\n",
       " 'min_impurity_split': None,\n",
       " 'min_samples_leaf': 1,\n",
       " 'min_samples_split': 2,\n",
       " 'min_weight_fraction_leaf': 0.0,\n",
       " 'n_estimators': 100,\n",
       " 'n_jobs': None,\n",
       " 'oob_score': False,\n",
       " 'random_state': None,\n",
       " 'verbose': 0,\n",
       " 'warm_start': False}"
      ]
     },
     "execution_count": 114,
     "metadata": {},
     "output_type": "execute_result"
    }
   ],
   "source": [
    "rf_model.get_params()"
   ]
  },
  {
   "cell_type": "markdown",
   "metadata": {},
   "source": [
    "Using the model of the Random Forest by Skikit-Learn with the default hyperparameters, we obtain even worse results. We will further analyze it that is the case because of the wrong hyperparameter initialization with use of a Randomized Search including Cross Validation."
   ]
  },
  {
   "cell_type": "code",
   "execution_count": 115,
   "metadata": {},
   "outputs": [],
   "source": [
    "# Number of trees in random forest\n",
    "n_estimators = [int(x) for x in np.linspace(start = 200, stop = 2000, num = 10)]\n",
    "# Number of features to consider at every split\n",
    "max_features = ['auto', 'sqrt']\n",
    "# Maximum number of levels in tree\n",
    "max_depth = [int(x) for x in np.linspace(10, 110, num = 11)]\n",
    "max_depth.append(None)\n",
    "# Minimum number of samples required to split a node\n",
    "min_samples_split = [2, 5, 10]\n",
    "# Minimum number of samples required at each leaf node\n",
    "min_samples_leaf = [1, 2, 4]\n",
    "# Method of selecting samples for training each tree\n",
    "bootstrap = [True, False]\n",
    "# Create the random grid\n",
    "random_grid = {'n_estimators': n_estimators,\n",
    "               'max_features': max_features,\n",
    "               'max_depth': max_depth,\n",
    "               'min_samples_split': min_samples_split,\n",
    "               'min_samples_leaf': min_samples_leaf,\n",
    "               'bootstrap': bootstrap}"
   ]
  },
  {
   "cell_type": "code",
   "execution_count": 116,
   "metadata": {},
   "outputs": [
    {
     "name": "stdout",
     "output_type": "stream",
     "text": [
      "Fitting 3 folds for each of 100 candidates, totalling 300 fits\n"
     ]
    },
    {
     "data": {
      "text/plain": [
       "RandomizedSearchCV(cv=3, estimator=RandomForestRegressor(), n_iter=100,\n",
       "                   n_jobs=-1,\n",
       "                   param_distributions={'bootstrap': [True, False],\n",
       "                                        'max_depth': [10, 20, 30, 40, 50, 60,\n",
       "                                                      70, 80, 90, 100, 110,\n",
       "                                                      None],\n",
       "                                        'max_features': ['auto', 'sqrt'],\n",
       "                                        'min_samples_leaf': [1, 2, 4],\n",
       "                                        'min_samples_split': [2, 5, 10],\n",
       "                                        'n_estimators': [200, 400, 600, 800,\n",
       "                                                         1000, 1200, 1400, 1600,\n",
       "                                                         1800, 2000]},\n",
       "                   random_state=42, verbose=2)"
      ]
     },
     "execution_count": 116,
     "metadata": {},
     "output_type": "execute_result"
    }
   ],
   "source": [
    "# Random search of parameters, using 3 fold cross validation, \n",
    "# search across 100 different combinations, and use all available cores\n",
    "rf_random = RandomizedSearchCV(estimator = rf_model, param_distributions = random_grid, n_iter = 100, cv = 3, verbose=2, random_state=42, n_jobs = -1)\n",
    "# Fit the random search model\n",
    "rf_random.fit(X_train, y_train)"
   ]
  },
  {
   "cell_type": "code",
   "execution_count": 117,
   "metadata": {},
   "outputs": [
    {
     "data": {
      "text/plain": [
       "{'n_estimators': 1600,\n",
       " 'min_samples_split': 2,\n",
       " 'min_samples_leaf': 4,\n",
       " 'max_features': 'sqrt',\n",
       " 'max_depth': 10,\n",
       " 'bootstrap': True}"
      ]
     },
     "execution_count": 117,
     "metadata": {},
     "output_type": "execute_result"
    }
   ],
   "source": [
    "rf_random.best_params_"
   ]
  },
  {
   "cell_type": "code",
   "execution_count": 118,
   "metadata": {},
   "outputs": [],
   "source": [
    "preds_rf_random = rf_random.predict(X_test)"
   ]
  },
  {
   "cell_type": "code",
   "execution_count": 119,
   "metadata": {},
   "outputs": [
    {
     "data": {
      "text/plain": [
       "0.09833053588641472"
      ]
     },
     "execution_count": 119,
     "metadata": {},
     "output_type": "execute_result"
    }
   ],
   "source": [
    "r2_score(y_test, preds_rf_random)"
   ]
  },
  {
   "cell_type": "markdown",
   "metadata": {},
   "source": [
    "We can observe a R-squared of around 10%, which is better than the Linar Regression and the RF with the initial Hyperparameters. This shows again, how important it is, to also optimize them and not just use the default values. Although we improved our predictions, a R-squared of 10% on the test data still does not indicate a good model. "
   ]
  },
  {
   "cell_type": "markdown",
   "metadata": {},
   "source": [
    "We can conclude that the variables picked (age, sex and province) are not able to predict the duration of illness very well. This is an intuitive result, since the duration is much more complex to explain than just using these three variables. If we had more information, f.e. if the patient had any previous diseases, we could probably obtain better results."
   ]
  },
  {
   "cell_type": "code",
   "execution_count": null,
   "metadata": {},
   "outputs": [],
   "source": []
  }
 ],
 "metadata": {
  "kernelspec": {
   "display_name": "p1",
   "language": "python",
   "name": "p1"
  },
  "language_info": {
   "codemirror_mode": {
    "name": "ipython",
    "version": 3
   },
   "file_extension": ".py",
   "mimetype": "text/x-python",
   "name": "python",
   "nbconvert_exporter": "python",
   "pygments_lexer": "ipython3",
   "version": "3.9.1"
  }
 },
 "nbformat": 4,
 "nbformat_minor": 1
}
