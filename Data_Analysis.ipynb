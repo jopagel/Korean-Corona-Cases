<<<<<<< HEAD
{
 "cells": [
  {
   "cell_type": "markdown",
   "metadata": {},
   "source": [
    "# Analysis of Korean Corona Cases"
   ]
  },
  {
   "cell_type": "markdown",
   "metadata": {},
   "source": [
    "This dataset..."
   ]
  },
  {
   "cell_type": "markdown",
   "metadata": {},
   "source": [
    "In order to come up with some data related questions, we have to explore the data first. After that, we can decide, which questions to ask concerning the preceding dataset."
   ]
  },
  {
   "cell_type": "code",
   "execution_count": 78,
   "metadata": {},
   "outputs": [],
   "source": [
    "import pandas as pd\n",
    "import numpy as np\n",
    "import matplotlib.pyplot as plt\n",
    "import seaborn as sns\n",
    "from sklearn.linear_model import LinearRegression\n",
    "from sklearn.model_selection import train_test_split"
   ]
  },
  {
   "cell_type": "code",
   "execution_count": 96,
   "metadata": {},
   "outputs": [],
   "source": [
    "import warnings\n",
    "warnings.filterwarnings('ignore')"
   ]
  },
  {
   "cell_type": "code",
   "execution_count": 97,
   "metadata": {
    "pycharm": {
     "name": "#%%\n"
    }
   },
   "outputs": [],
   "source": [
    "df = pd.read_csv('PatientInfo.csv')"
   ]
  },
  {
   "cell_type": "code",
   "execution_count": 98,
   "metadata": {},
   "outputs": [
    {
     "data": {
      "text/html": [
       "<div>\n",
       "<style scoped>\n",
       "    .dataframe tbody tr th:only-of-type {\n",
       "        vertical-align: middle;\n",
       "    }\n",
       "\n",
       "    .dataframe tbody tr th {\n",
       "        vertical-align: top;\n",
       "    }\n",
       "\n",
       "    .dataframe thead th {\n",
       "        text-align: right;\n",
       "    }\n",
       "</style>\n",
       "<table border=\"1\" class=\"dataframe\">\n",
       "  <thead>\n",
       "    <tr style=\"text-align: right;\">\n",
       "      <th></th>\n",
       "      <th>patient_id</th>\n",
       "      <th>sex</th>\n",
       "      <th>age</th>\n",
       "      <th>country</th>\n",
       "      <th>province</th>\n",
       "      <th>city</th>\n",
       "      <th>infection_case</th>\n",
       "      <th>infected_by</th>\n",
       "      <th>contact_number</th>\n",
       "      <th>symptom_onset_date</th>\n",
       "      <th>confirmed_date</th>\n",
       "      <th>released_date</th>\n",
       "      <th>deceased_date</th>\n",
       "      <th>state</th>\n",
       "    </tr>\n",
       "  </thead>\n",
       "  <tbody>\n",
       "    <tr>\n",
       "      <th>0</th>\n",
       "      <td>1000000001</td>\n",
       "      <td>male</td>\n",
       "      <td>50s</td>\n",
       "      <td>Korea</td>\n",
       "      <td>Seoul</td>\n",
       "      <td>Gangseo-gu</td>\n",
       "      <td>overseas inflow</td>\n",
       "      <td>NaN</td>\n",
       "      <td>75</td>\n",
       "      <td>2020-01-22</td>\n",
       "      <td>2020-01-23</td>\n",
       "      <td>2020-02-05</td>\n",
       "      <td>NaN</td>\n",
       "      <td>released</td>\n",
       "    </tr>\n",
       "    <tr>\n",
       "      <th>1</th>\n",
       "      <td>1000000002</td>\n",
       "      <td>male</td>\n",
       "      <td>30s</td>\n",
       "      <td>Korea</td>\n",
       "      <td>Seoul</td>\n",
       "      <td>Jungnang-gu</td>\n",
       "      <td>overseas inflow</td>\n",
       "      <td>NaN</td>\n",
       "      <td>31</td>\n",
       "      <td>NaN</td>\n",
       "      <td>2020-01-30</td>\n",
       "      <td>2020-03-02</td>\n",
       "      <td>NaN</td>\n",
       "      <td>released</td>\n",
       "    </tr>\n",
       "    <tr>\n",
       "      <th>2</th>\n",
       "      <td>1000000003</td>\n",
       "      <td>male</td>\n",
       "      <td>50s</td>\n",
       "      <td>Korea</td>\n",
       "      <td>Seoul</td>\n",
       "      <td>Jongno-gu</td>\n",
       "      <td>contact with patient</td>\n",
       "      <td>2.002000e+09</td>\n",
       "      <td>17</td>\n",
       "      <td>NaN</td>\n",
       "      <td>2020-01-30</td>\n",
       "      <td>2020-02-19</td>\n",
       "      <td>NaN</td>\n",
       "      <td>released</td>\n",
       "    </tr>\n",
       "    <tr>\n",
       "      <th>3</th>\n",
       "      <td>1000000004</td>\n",
       "      <td>male</td>\n",
       "      <td>20s</td>\n",
       "      <td>Korea</td>\n",
       "      <td>Seoul</td>\n",
       "      <td>Mapo-gu</td>\n",
       "      <td>overseas inflow</td>\n",
       "      <td>NaN</td>\n",
       "      <td>9</td>\n",
       "      <td>2020-01-26</td>\n",
       "      <td>2020-01-30</td>\n",
       "      <td>2020-02-15</td>\n",
       "      <td>NaN</td>\n",
       "      <td>released</td>\n",
       "    </tr>\n",
       "    <tr>\n",
       "      <th>4</th>\n",
       "      <td>1000000005</td>\n",
       "      <td>female</td>\n",
       "      <td>20s</td>\n",
       "      <td>Korea</td>\n",
       "      <td>Seoul</td>\n",
       "      <td>Seongbuk-gu</td>\n",
       "      <td>contact with patient</td>\n",
       "      <td>1.000000e+09</td>\n",
       "      <td>2</td>\n",
       "      <td>NaN</td>\n",
       "      <td>2020-01-31</td>\n",
       "      <td>2020-02-24</td>\n",
       "      <td>NaN</td>\n",
       "      <td>released</td>\n",
       "    </tr>\n",
       "  </tbody>\n",
       "</table>\n",
       "</div>"
      ],
      "text/plain": [
       "   patient_id     sex  age country province         city  \\\n",
       "0  1000000001    male  50s   Korea    Seoul   Gangseo-gu   \n",
       "1  1000000002    male  30s   Korea    Seoul  Jungnang-gu   \n",
       "2  1000000003    male  50s   Korea    Seoul    Jongno-gu   \n",
       "3  1000000004    male  20s   Korea    Seoul      Mapo-gu   \n",
       "4  1000000005  female  20s   Korea    Seoul  Seongbuk-gu   \n",
       "\n",
       "         infection_case   infected_by contact_number symptom_onset_date  \\\n",
       "0       overseas inflow           NaN             75         2020-01-22   \n",
       "1       overseas inflow           NaN             31                NaN   \n",
       "2  contact with patient  2.002000e+09             17                NaN   \n",
       "3       overseas inflow           NaN              9         2020-01-26   \n",
       "4  contact with patient  1.000000e+09              2                NaN   \n",
       "\n",
       "  confirmed_date released_date deceased_date     state  \n",
       "0     2020-01-23    2020-02-05           NaN  released  \n",
       "1     2020-01-30    2020-03-02           NaN  released  \n",
       "2     2020-01-30    2020-02-19           NaN  released  \n",
       "3     2020-01-30    2020-02-15           NaN  released  \n",
       "4     2020-01-31    2020-02-24           NaN  released  "
      ]
     },
     "execution_count": 98,
     "metadata": {},
     "output_type": "execute_result"
    }
   ],
   "source": [
    "df.head()"
   ]
  },
  {
   "cell_type": "code",
   "execution_count": 99,
   "metadata": {},
   "outputs": [
    {
     "name": "stdout",
     "output_type": "stream",
     "text": [
      "<class 'pandas.core.frame.DataFrame'>\n",
      "RangeIndex: 5165 entries, 0 to 5164\n",
      "Data columns (total 14 columns):\n",
      " #   Column              Non-Null Count  Dtype  \n",
      "---  ------              --------------  -----  \n",
      " 0   patient_id          5165 non-null   object \n",
      " 1   sex                 4042 non-null   object \n",
      " 2   age                 3784 non-null   object \n",
      " 3   country             5164 non-null   object \n",
      " 4   province            5164 non-null   object \n",
      " 5   city                5070 non-null   object \n",
      " 6   infection_case      4245 non-null   object \n",
      " 7   infected_by         1345 non-null   float64\n",
      " 8   contact_number      791 non-null    object \n",
      " 9   symptom_onset_date  690 non-null    object \n",
      " 10  confirmed_date      5161 non-null   object \n",
      " 11  released_date       1587 non-null   object \n",
      " 12  deceased_date       66 non-null     object \n",
      " 13  state               5164 non-null   object \n",
      "dtypes: float64(1), object(13)\n",
      "memory usage: 565.0+ KB\n"
     ]
    }
   ],
   "source": [
    "df.info()"
   ]
  },
  {
   "cell_type": "markdown",
   "metadata": {},
   "source": [
    "## 1. Business Understanding"
   ]
  },
  {
   "cell_type": "markdown",
   "metadata": {},
   "source": [
    "## 2. Data Understanding"
   ]
  },
  {
   "cell_type": "code",
   "execution_count": 100,
   "metadata": {},
   "outputs": [
    {
     "name": "stdout",
     "output_type": "stream",
     "text": [
      "Fraction of NA's in column sympton_onset_date: 0.8664085188770572\n",
      "Fraction of NA's in column confirmed_date: 0.0007744433688286545\n",
      "Fraction of NA's in column released_date: 0.6927395934172313\n",
      "Fraction of NA's in column deceased_date: 0.9872216844143272\n",
      "\n"
     ]
    }
   ],
   "source": [
    "print(f\"Fraction of NA's in column sympton_onset_date: {df['symptom_onset_date'].isna().mean()}\\n\\\n",
    "Fraction of NA's in column confirmed_date: {df['confirmed_date'].isna().mean()}\\n\\\n",
    "Fraction of NA's in column released_date: {df['released_date'].isna().mean()}\\n\\\n",
    "Fraction of NA's in column deceased_date: {df['deceased_date'].isna().mean()}\\n\")"
   ]
  },
  {
   "cell_type": "code",
   "execution_count": null,
   "metadata": {},
   "outputs": [],
   "source": [
    "Questions to ask:\n",
    "\n",
    "\n",
    "1. Which province had the most Cases\n",
    "2. Is there a difference in duration of illness male vs female citizen? \n",
    "3. Which Features have the biggest influence on the duration of the infection? \n"
   ]
  },
  {
   "cell_type": "markdown",
   "metadata": {},
   "source": [
    "## 3. Data Preparation"
   ]
  },
  {
   "cell_type": "code",
   "execution_count": 101,
   "metadata": {},
   "outputs": [],
   "source": [
    "def time_to_integer(time):\n",
    "    \"\"\"Extracts days from datetime object\n",
    "    :param time:\n",
    "        datetime object\n",
    "    :return:\n",
    "        days of datetime object\n",
    "    \"\"\"\n",
    "    time = str(time)\n",
    "    t, _, _ = time.split(\" \")\n",
    "    return int(t)\n",
    "\n",
    "\n",
    "def prepare_df(df):\n",
    "    \"\"\"Function to drop prepare the initial dataframe. This includes dropping NA's in confirmed_data, released_date\n",
    "    and afterwards transforming these columns to datetime objects. After that a new feature \"duration\" is created and\n",
    "    unnecessary columns are being dropped\n",
    "    :param df:\n",
    "        dataframe to be prepared\n",
    "    :return:\n",
    "        prepared dataframe\n",
    "    \"\"\"\n",
    "    df = df.dropna(subset=[\"confirmed_date\", \"released_date\"])\n",
    "    assert df.confirmed_date.isna().sum != 0 or df.released_date != 0\n",
    "    df[[\"confirmed_date\", \"released_date\"]] = df[\n",
    "        [\"confirmed_date\", \"released_date\"]\n",
    "    ].apply(pd.to_datetime)\n",
    "    df[\"duration\"] = df[\"released_date\"] - df[\"confirmed_date\"]\n",
    "    df[\"duration\"] = df[\"duration\"].apply(time_to_integer)\n",
    "    df = df.drop(\n",
    "        [\n",
    "            \"symptom_onset_date\",\n",
    "            \"deceased_date\",\n",
    "            \"patient_id\",\n",
    "            \"country\",\n",
    "            \"infected_by\",\n",
    "            \"state\",\n",
    "            \"contact_number\",\n",
    "            \"confirmed_date\",\n",
    "            \"released_date\",\n",
    "            \"city\",\n",
    "        ],\n",
    "        axis=1,\n",
    "    )\n",
    "\n",
    "    return df\n",
    "\n",
    "\n",
    "def create_test_train(df):\n",
    "    \"\"\"\n",
    "    Creates dummy columns for categoric features and splits into test and train for X and y.\n",
    "    :param df:\n",
    "        dataframe with categoric columns\n",
    "    :return:\n",
    "        X_train and y_train to be used for Regression fit and X_test and y_Test for testing the model on unseen data\n",
    "    \"\"\"\n",
    "    cat_vars = df.select_dtypes(include=[\"object\"]).copy().columns\n",
    "    for var in cat_vars:\n",
    "        df = pd.concat(\n",
    "            [\n",
    "                df.drop(var, axis=1),\n",
    "                pd.get_dummies(df[var], prefix=var, prefix_sep=\"_\", drop_first=True),\n",
    "            ],\n",
    "            axis=1,\n",
    "        )\n",
    "\n",
    "    X = df.drop(\"duration\", axis=1)\n",
    "    y = df[\"duration\"]\n",
    "\n",
    "    X_train, X_test, y_train, y_test = train_test_split(\n",
    "        X, y, test_size=0.2, random_state=42\n",
    "    )\n",
    "\n",
    "    return X_train, X_test, y_train, y_test\n",
    "\n",
    "\n",
    "def coef_weights(coefficients, X_train):\n",
    "    \"\"\"\n",
    "    Provides a dataframe that can be used to understand the most influential coefficients\n",
    "    in a linear model by providing the coefficient estimates along with the name of the\n",
    "    variable attached to the coefficient.\n",
    "    :param coefficients\n",
    "        the coefficients of the linear model\n",
    "    :param X_train\n",
    "        the training data, so the column names can be used\n",
    "    :return:\n",
    "        coefs_df - a dataframe holding the coefficient, estimate, and abs(estimate)\n",
    "    \"\"\"\n",
    "    coefs_df = pd.DataFrame()\n",
    "    coefs_df[\"est_int\"] = X_train.columns\n",
    "    coefs_df[\"coefs\"] = model.coef_\n",
    "    coefs_df[\"abs_coefs\"] = np.abs(model.coef_)\n",
    "    coefs_df = coefs_df.sort_values(\"abs_coefs\", ascending=False)\n",
    "    return coefs_df\n"
   ]
  },
  {
   "cell_type": "markdown",
   "metadata": {},
   "source": [
    "Most of the date features are not useful since they have a high percentage of missing values. As a result we will drop these columns and we only keep the confirmed- and the released-date. Next to that we rop columns patient_id, country, state and infected_by, since these won't be helpful for the further analysis.\n",
    "In a next step we will drop rows where released_date or confirmed_date is a null value. \n",
    "After that we transform the data type of these two objects from sting to datetime."
   ]
  },
  {
   "cell_type": "code",
   "execution_count": 102,
   "metadata": {},
   "outputs": [],
   "source": [
    "df = prepare_df(df);"
   ]
  },
  {
   "cell_type": "code",
   "execution_count": 92,
   "metadata": {},
   "outputs": [
    {
     "name": "stdout",
     "output_type": "stream",
     "text": [
      "<class 'pandas.core.frame.DataFrame'>\n",
      "Int64Index: 1587 entries, 0 to 5161\n",
      "Data columns (total 5 columns):\n",
      " #   Column          Non-Null Count  Dtype \n",
      "---  ------          --------------  ----- \n",
      " 0   sex             1586 non-null   object\n",
      " 1   age             1576 non-null   object\n",
      " 2   province        1587 non-null   object\n",
      " 3   infection_case  1013 non-null   object\n",
      " 4   duration        1587 non-null   int64 \n",
      "dtypes: int64(1), object(4)\n",
      "memory usage: 74.4+ KB\n"
     ]
    }
   ],
   "source": [
    "df.info()"
   ]
  },
  {
   "cell_type": "code",
   "execution_count": 93,
   "metadata": {},
   "outputs": [
    {
     "data": {
      "image/png": "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\n",
      "text/plain": [
       "<Figure size 360x360 with 1 Axes>"
      ]
     },
     "metadata": {
      "needs_background": "light"
     },
     "output_type": "display_data"
    }
   ],
   "source": [
    "sns.displot(df['duration']);"
   ]
  },
  {
   "cell_type": "code",
   "execution_count": 94,
   "metadata": {},
   "outputs": [
    {
     "data": {
      "text/html": [
       "<div>\n",
       "<style scoped>\n",
       "    .dataframe tbody tr th:only-of-type {\n",
       "        vertical-align: middle;\n",
       "    }\n",
       "\n",
       "    .dataframe tbody tr th {\n",
       "        vertical-align: top;\n",
       "    }\n",
       "\n",
       "    .dataframe thead th {\n",
       "        text-align: right;\n",
       "    }\n",
       "</style>\n",
       "<table border=\"1\" class=\"dataframe\">\n",
       "  <thead>\n",
       "    <tr style=\"text-align: right;\">\n",
       "      <th></th>\n",
       "      <th>sex</th>\n",
       "      <th>age</th>\n",
       "      <th>province</th>\n",
       "      <th>infection_case</th>\n",
       "      <th>duration</th>\n",
       "    </tr>\n",
       "  </thead>\n",
       "  <tbody>\n",
       "    <tr>\n",
       "      <th>0</th>\n",
       "      <td>male</td>\n",
       "      <td>50s</td>\n",
       "      <td>Seoul</td>\n",
       "      <td>overseas inflow</td>\n",
       "      <td>13</td>\n",
       "    </tr>\n",
       "    <tr>\n",
       "      <th>1</th>\n",
       "      <td>male</td>\n",
       "      <td>30s</td>\n",
       "      <td>Seoul</td>\n",
       "      <td>overseas inflow</td>\n",
       "      <td>32</td>\n",
       "    </tr>\n",
       "    <tr>\n",
       "      <th>2</th>\n",
       "      <td>male</td>\n",
       "      <td>50s</td>\n",
       "      <td>Seoul</td>\n",
       "      <td>contact with patient</td>\n",
       "      <td>20</td>\n",
       "    </tr>\n",
       "    <tr>\n",
       "      <th>3</th>\n",
       "      <td>male</td>\n",
       "      <td>20s</td>\n",
       "      <td>Seoul</td>\n",
       "      <td>overseas inflow</td>\n",
       "      <td>16</td>\n",
       "    </tr>\n",
       "    <tr>\n",
       "      <th>4</th>\n",
       "      <td>female</td>\n",
       "      <td>20s</td>\n",
       "      <td>Seoul</td>\n",
       "      <td>contact with patient</td>\n",
       "      <td>24</td>\n",
       "    </tr>\n",
       "  </tbody>\n",
       "</table>\n",
       "</div>"
      ],
      "text/plain": [
       "      sex  age province        infection_case  duration\n",
       "0    male  50s    Seoul       overseas inflow        13\n",
       "1    male  30s    Seoul       overseas inflow        32\n",
       "2    male  50s    Seoul  contact with patient        20\n",
       "3    male  20s    Seoul       overseas inflow        16\n",
       "4  female  20s    Seoul  contact with patient        24"
      ]
     },
     "execution_count": 94,
     "metadata": {},
     "output_type": "execute_result"
    }
   ],
   "source": [
    "df.head()"
   ]
  },
  {
   "cell_type": "code",
   "execution_count": 103,
   "metadata": {},
   "outputs": [
    {
     "data": {
      "image/png": "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\n",
      "text/plain": [
       "<Figure size 1080x216 with 1 Axes>"
      ]
     },
     "metadata": {
      "needs_background": "light"
     },
     "output_type": "display_data"
    }
   ],
   "source": [
    "plt.figure(figsize = (15,3))\n",
    "sns.distplot(df[df.sex == \"male\"].duration, label = \"Male\", color = \"blue\")\n",
    "sns.distplot(df[df.sex == \"female\"].duration, label = \"Female\", color = \"orange\")\n",
    "plt.xlabel(\"Duration\")\n",
    "plt.title(\"Duration of Illness for Females vs Males\")\n",
    "plt.legend(loc=\"upper right\")\n",
    "plt.show()"
   ]
  },
  {
   "cell_type": "code",
   "execution_count": 48,
   "metadata": {},
   "outputs": [
    {
     "data": {
      "image/png": "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\n",
      "text/plain": [
       "<Figure size 1440x216 with 1 Axes>"
      ]
     },
     "metadata": {
      "needs_background": "light"
     },
     "output_type": "display_data"
    }
   ],
   "source": [
    "plt.figure(figsize = (20,3))\n",
    "sns.countplot(x = \"province\", data = df, order=df.province.value_counts().iloc[:10].index);"
   ]
  },
  {
   "cell_type": "code",
   "execution_count": 32,
   "metadata": {},
   "outputs": [
    {
     "data": {
      "image/png": "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\n",
      "text/plain": [
       "<Figure size 1440x216 with 1 Axes>"
      ]
     },
     "metadata": {
      "needs_background": "light"
     },
     "output_type": "display_data"
    }
   ],
   "source": [
    "plt.figure(figsize = (20,3))\n",
    "sns.countplot(x = \"infection_case\", data=df, order=df.infection_case.value_counts().iloc[:5].index);"
   ]
  },
  {
   "cell_type": "markdown",
   "metadata": {},
   "source": [
    "Although no machine learning method will be applied, we want to fill missing values with their modus for every column."
   ]
  },
  {
   "cell_type": "code",
   "execution_count": 33,
   "metadata": {},
   "outputs": [],
   "source": [
    "fillna = lambda col: col.fillna(col.mode()[0])"
   ]
  },
  {
   "cell_type": "code",
   "execution_count": 34,
   "metadata": {},
   "outputs": [],
   "source": [
    "df = df.apply(fillna)"
   ]
  },
  {
   "cell_type": "code",
   "execution_count": 35,
   "metadata": {},
   "outputs": [
    {
     "name": "stdout",
     "output_type": "stream",
     "text": [
      "<class 'pandas.core.frame.DataFrame'>\n",
      "Int64Index: 1587 entries, 0 to 5161\n",
      "Data columns (total 5 columns):\n",
      " #   Column          Non-Null Count  Dtype \n",
      "---  ------          --------------  ----- \n",
      " 0   sex             1587 non-null   object\n",
      " 1   age             1587 non-null   object\n",
      " 2   province        1587 non-null   object\n",
      " 3   infection_case  1587 non-null   object\n",
      " 4   duration        1587 non-null   int64 \n",
      "dtypes: int64(1), object(4)\n",
      "memory usage: 138.9+ KB\n"
     ]
    }
   ],
   "source": [
    "df.info()"
   ]
  },
  {
   "cell_type": "code",
   "execution_count": 39,
   "metadata": {},
   "outputs": [],
   "source": [
    "X_train, X_test, y_train, y_test = create_test_train(df)"
   ]
  },
  {
   "cell_type": "markdown",
   "metadata": {},
   "source": [
    "## 4. Data Modeling"
   ]
  },
  {
   "cell_type": "markdown",
   "metadata": {},
   "source": [
    "Linear Regression"
   ]
  },
  {
   "cell_type": "code",
   "execution_count": 40,
   "metadata": {},
   "outputs": [
    {
     "data": {
      "text/plain": [
       "LinearRegression()"
      ]
     },
     "execution_count": 40,
     "metadata": {},
     "output_type": "execute_result"
    }
   ],
   "source": [
    "model = LinearRegression()\n",
    "\n",
    "model.fit(X_train,y_train)"
   ]
  },
  {
   "cell_type": "code",
   "execution_count": 46,
   "metadata": {},
   "outputs": [
    {
     "data": {
      "text/html": [
       "<div>\n",
       "<style scoped>\n",
       "    .dataframe tbody tr th:only-of-type {\n",
       "        vertical-align: middle;\n",
       "    }\n",
       "\n",
       "    .dataframe tbody tr th {\n",
       "        vertical-align: top;\n",
       "    }\n",
       "\n",
       "    .dataframe thead th {\n",
       "        text-align: right;\n",
       "    }\n",
       "</style>\n",
       "<table border=\"1\" class=\"dataframe\">\n",
       "  <thead>\n",
       "    <tr style=\"text-align: right;\">\n",
       "      <th></th>\n",
       "      <th>est_int</th>\n",
       "      <th>coefs</th>\n",
       "      <th>abs_coefs</th>\n",
       "    </tr>\n",
       "  </thead>\n",
       "  <tbody>\n",
       "    <tr>\n",
       "      <th>1</th>\n",
       "      <td>age_100s</td>\n",
       "      <td>20.440988</td>\n",
       "      <td>20.440988</td>\n",
       "    </tr>\n",
       "    <tr>\n",
       "      <th>12</th>\n",
       "      <td>province_Daegu</td>\n",
       "      <td>-16.595589</td>\n",
       "      <td>16.595589</td>\n",
       "    </tr>\n",
       "    <tr>\n",
       "      <th>33</th>\n",
       "      <td>infection_case_Milal Shelter</td>\n",
       "      <td>-15.434399</td>\n",
       "      <td>15.434399</td>\n",
       "    </tr>\n",
       "    <tr>\n",
       "      <th>37</th>\n",
       "      <td>infection_case_River of Grace Community Church</td>\n",
       "      <td>-15.080716</td>\n",
       "      <td>15.080716</td>\n",
       "    </tr>\n",
       "    <tr>\n",
       "      <th>30</th>\n",
       "      <td>infection_case_Gyeongsan Jeil Silver Town</td>\n",
       "      <td>-13.023692</td>\n",
       "      <td>13.023692</td>\n",
       "    </tr>\n",
       "    <tr>\n",
       "      <th>26</th>\n",
       "      <td>infection_case_Eunpyeong St. Mary's Hospital</td>\n",
       "      <td>-12.618453</td>\n",
       "      <td>12.618453</td>\n",
       "    </tr>\n",
       "    <tr>\n",
       "      <th>36</th>\n",
       "      <td>infection_case_Richway</td>\n",
       "      <td>-12.308132</td>\n",
       "      <td>12.308132</td>\n",
       "    </tr>\n",
       "    <tr>\n",
       "      <th>43</th>\n",
       "      <td>infection_case_gym facility in Sejong</td>\n",
       "      <td>-10.991336</td>\n",
       "      <td>10.991336</td>\n",
       "    </tr>\n",
       "    <tr>\n",
       "      <th>39</th>\n",
       "      <td>infection_case_Shincheonji Church</td>\n",
       "      <td>-10.903049</td>\n",
       "      <td>10.903049</td>\n",
       "    </tr>\n",
       "    <tr>\n",
       "      <th>31</th>\n",
       "      <td>infection_case_Gyeongsan Seorin Nursing Home</td>\n",
       "      <td>10.696873</td>\n",
       "      <td>10.696873</td>\n",
       "    </tr>\n",
       "    <tr>\n",
       "      <th>35</th>\n",
       "      <td>infection_case_Pilgrimage to Israel</td>\n",
       "      <td>-10.530764</td>\n",
       "      <td>10.530764</td>\n",
       "    </tr>\n",
       "    <tr>\n",
       "      <th>29</th>\n",
       "      <td>infection_case_Gyeongsan Cham Joeun Community ...</td>\n",
       "      <td>-10.426695</td>\n",
       "      <td>10.426695</td>\n",
       "    </tr>\n",
       "    <tr>\n",
       "      <th>41</th>\n",
       "      <td>infection_case_etc</td>\n",
       "      <td>-10.098773</td>\n",
       "      <td>10.098773</td>\n",
       "    </tr>\n",
       "    <tr>\n",
       "      <th>8</th>\n",
       "      <td>age_70s</td>\n",
       "      <td>10.000727</td>\n",
       "      <td>10.000727</td>\n",
       "    </tr>\n",
       "    <tr>\n",
       "      <th>40</th>\n",
       "      <td>infection_case_contact with patient</td>\n",
       "      <td>-9.341906</td>\n",
       "      <td>9.341906</td>\n",
       "    </tr>\n",
       "    <tr>\n",
       "      <th>44</th>\n",
       "      <td>infection_case_overseas inflow</td>\n",
       "      <td>-8.225709</td>\n",
       "      <td>8.225709</td>\n",
       "    </tr>\n",
       "    <tr>\n",
       "      <th>16</th>\n",
       "      <td>province_Gyeonggi-do</td>\n",
       "      <td>-7.837158</td>\n",
       "      <td>7.837158</td>\n",
       "    </tr>\n",
       "    <tr>\n",
       "      <th>24</th>\n",
       "      <td>province_Seoul</td>\n",
       "      <td>-7.806066</td>\n",
       "      <td>7.806066</td>\n",
       "    </tr>\n",
       "    <tr>\n",
       "      <th>42</th>\n",
       "      <td>infection_case_gym facility in Cheonan</td>\n",
       "      <td>-7.730283</td>\n",
       "      <td>7.730283</td>\n",
       "    </tr>\n",
       "    <tr>\n",
       "      <th>10</th>\n",
       "      <td>age_90s</td>\n",
       "      <td>5.929541</td>\n",
       "      <td>5.929541</td>\n",
       "    </tr>\n",
       "  </tbody>\n",
       "</table>\n",
       "</div>"
      ],
      "text/plain": [
       "                                              est_int      coefs  abs_coefs\n",
       "1                                            age_100s  20.440988  20.440988\n",
       "12                                     province_Daegu -16.595589  16.595589\n",
       "33                       infection_case_Milal Shelter -15.434399  15.434399\n",
       "37     infection_case_River of Grace Community Church -15.080716  15.080716\n",
       "30          infection_case_Gyeongsan Jeil Silver Town -13.023692  13.023692\n",
       "26       infection_case_Eunpyeong St. Mary's Hospital -12.618453  12.618453\n",
       "36                             infection_case_Richway -12.308132  12.308132\n",
       "43              infection_case_gym facility in Sejong -10.991336  10.991336\n",
       "39                  infection_case_Shincheonji Church -10.903049  10.903049\n",
       "31       infection_case_Gyeongsan Seorin Nursing Home  10.696873  10.696873\n",
       "35                infection_case_Pilgrimage to Israel -10.530764  10.530764\n",
       "29  infection_case_Gyeongsan Cham Joeun Community ... -10.426695  10.426695\n",
       "41                                 infection_case_etc -10.098773  10.098773\n",
       "8                                             age_70s  10.000727  10.000727\n",
       "40                infection_case_contact with patient  -9.341906   9.341906\n",
       "44                     infection_case_overseas inflow  -8.225709   8.225709\n",
       "16                               province_Gyeonggi-do  -7.837158   7.837158\n",
       "24                                     province_Seoul  -7.806066   7.806066\n",
       "42             infection_case_gym facility in Cheonan  -7.730283   7.730283\n",
       "10                                            age_90s   5.929541   5.929541"
      ]
     },
     "execution_count": 46,
     "metadata": {},
     "output_type": "execute_result"
    }
   ],
   "source": [
    "coef_df = coef_weights(model.coef_, X_train)\n",
    "\n",
    "coef_df.head(20)"
   ]
  }
 ],
 "metadata": {
  "kernelspec": {
   "display_name": "p1",
   "language": "python",
   "name": "p1"
  },
  "language_info": {
   "codemirror_mode": {
    "name": "ipython",
    "version": 3
   },
   "file_extension": ".py",
   "mimetype": "text/x-python",
   "name": "python",
   "nbconvert_exporter": "python",
   "pygments_lexer": "ipython3",
   "version": "3.9.1"
  }
 },
 "nbformat": 4,
 "nbformat_minor": 1
}
||||||| 4daefa6
=======
{
 "cells": [
  {
   "cell_type": "markdown",
   "metadata": {},
   "source": [
    "# Analysis of Korean Corona Cases"
   ]
  },
  {
   "cell_type": "markdown",
   "metadata": {},
   "source": [
    "KCDC (Korea Centers for Disease Control & Prevention) announces the information of COVID-19 quickly and transparently.\n",
    "It provides a structured dataset based on the report materials of KCDC and local governments. This datset is available on kaggle an consists of 14 features discribing 5,165 patients infected with the Corona Virus in 2020. \n",
    "In order to define the data related questions, we will look at the data and choose features we want to conduct our analysis on."
   ]
  },
  {
   "cell_type": "code",
   "execution_count": 90,
   "metadata": {},
   "outputs": [],
   "source": [
    "import pandas as pd\n",
    "import numpy as np\n",
    "import matplotlib.pyplot as plt\n",
    "import seaborn as sns\n",
    "from sklearn.linear_model import LinearRegression\n",
    "from sklearn.ensemble import RandomForestRegressor\n",
    "from sklearn.model_selection import RandomizedSearchCV\n",
    "from sklearn.model_selection import train_test_split\n",
    "from sklearn.metrics import r2_score\n",
    "import warnings\n",
    "warnings.filterwarnings('ignore')"
   ]
  },
  {
   "cell_type": "code",
   "execution_count": 91,
   "metadata": {
    "pycharm": {
     "name": "#%%\n"
    }
   },
   "outputs": [],
   "source": [
    "# Import Dataset \n",
    "df = pd.read_csv('PatientInfo.csv')\n",
    "df_init = df"
   ]
  },
  {
   "cell_type": "code",
   "execution_count": 92,
   "metadata": {},
   "outputs": [
    {
     "data": {
      "text/html": [
       "<div>\n",
       "<style scoped>\n",
       "    .dataframe tbody tr th:only-of-type {\n",
       "        vertical-align: middle;\n",
       "    }\n",
       "\n",
       "    .dataframe tbody tr th {\n",
       "        vertical-align: top;\n",
       "    }\n",
       "\n",
       "    .dataframe thead th {\n",
       "        text-align: right;\n",
       "    }\n",
       "</style>\n",
       "<table border=\"1\" class=\"dataframe\">\n",
       "  <thead>\n",
       "    <tr style=\"text-align: right;\">\n",
       "      <th></th>\n",
       "      <th>patient_id</th>\n",
       "      <th>sex</th>\n",
       "      <th>age</th>\n",
       "      <th>country</th>\n",
       "      <th>province</th>\n",
       "      <th>city</th>\n",
       "      <th>infection_case</th>\n",
       "      <th>infected_by</th>\n",
       "      <th>contact_number</th>\n",
       "      <th>symptom_onset_date</th>\n",
       "      <th>confirmed_date</th>\n",
       "      <th>released_date</th>\n",
       "      <th>deceased_date</th>\n",
       "      <th>state</th>\n",
       "    </tr>\n",
       "  </thead>\n",
       "  <tbody>\n",
       "    <tr>\n",
       "      <th>0</th>\n",
       "      <td>1000000001</td>\n",
       "      <td>male</td>\n",
       "      <td>50s</td>\n",
       "      <td>Korea</td>\n",
       "      <td>Seoul</td>\n",
       "      <td>Gangseo-gu</td>\n",
       "      <td>overseas inflow</td>\n",
       "      <td>NaN</td>\n",
       "      <td>75</td>\n",
       "      <td>2020-01-22</td>\n",
       "      <td>2020-01-23</td>\n",
       "      <td>2020-02-05</td>\n",
       "      <td>NaN</td>\n",
       "      <td>released</td>\n",
       "    </tr>\n",
       "    <tr>\n",
       "      <th>1</th>\n",
       "      <td>1000000002</td>\n",
       "      <td>male</td>\n",
       "      <td>30s</td>\n",
       "      <td>Korea</td>\n",
       "      <td>Seoul</td>\n",
       "      <td>Jungnang-gu</td>\n",
       "      <td>overseas inflow</td>\n",
       "      <td>NaN</td>\n",
       "      <td>31</td>\n",
       "      <td>NaN</td>\n",
       "      <td>2020-01-30</td>\n",
       "      <td>2020-03-02</td>\n",
       "      <td>NaN</td>\n",
       "      <td>released</td>\n",
       "    </tr>\n",
       "    <tr>\n",
       "      <th>2</th>\n",
       "      <td>1000000003</td>\n",
       "      <td>male</td>\n",
       "      <td>50s</td>\n",
       "      <td>Korea</td>\n",
       "      <td>Seoul</td>\n",
       "      <td>Jongno-gu</td>\n",
       "      <td>contact with patient</td>\n",
       "      <td>2.002000e+09</td>\n",
       "      <td>17</td>\n",
       "      <td>NaN</td>\n",
       "      <td>2020-01-30</td>\n",
       "      <td>2020-02-19</td>\n",
       "      <td>NaN</td>\n",
       "      <td>released</td>\n",
       "    </tr>\n",
       "    <tr>\n",
       "      <th>3</th>\n",
       "      <td>1000000004</td>\n",
       "      <td>male</td>\n",
       "      <td>20s</td>\n",
       "      <td>Korea</td>\n",
       "      <td>Seoul</td>\n",
       "      <td>Mapo-gu</td>\n",
       "      <td>overseas inflow</td>\n",
       "      <td>NaN</td>\n",
       "      <td>9</td>\n",
       "      <td>2020-01-26</td>\n",
       "      <td>2020-01-30</td>\n",
       "      <td>2020-02-15</td>\n",
       "      <td>NaN</td>\n",
       "      <td>released</td>\n",
       "    </tr>\n",
       "    <tr>\n",
       "      <th>4</th>\n",
       "      <td>1000000005</td>\n",
       "      <td>female</td>\n",
       "      <td>20s</td>\n",
       "      <td>Korea</td>\n",
       "      <td>Seoul</td>\n",
       "      <td>Seongbuk-gu</td>\n",
       "      <td>contact with patient</td>\n",
       "      <td>1.000000e+09</td>\n",
       "      <td>2</td>\n",
       "      <td>NaN</td>\n",
       "      <td>2020-01-31</td>\n",
       "      <td>2020-02-24</td>\n",
       "      <td>NaN</td>\n",
       "      <td>released</td>\n",
       "    </tr>\n",
       "  </tbody>\n",
       "</table>\n",
       "</div>"
      ],
      "text/plain": [
       "   patient_id     sex  age country province         city  \\\n",
       "0  1000000001    male  50s   Korea    Seoul   Gangseo-gu   \n",
       "1  1000000002    male  30s   Korea    Seoul  Jungnang-gu   \n",
       "2  1000000003    male  50s   Korea    Seoul    Jongno-gu   \n",
       "3  1000000004    male  20s   Korea    Seoul      Mapo-gu   \n",
       "4  1000000005  female  20s   Korea    Seoul  Seongbuk-gu   \n",
       "\n",
       "         infection_case   infected_by contact_number symptom_onset_date  \\\n",
       "0       overseas inflow           NaN             75         2020-01-22   \n",
       "1       overseas inflow           NaN             31                NaN   \n",
       "2  contact with patient  2.002000e+09             17                NaN   \n",
       "3       overseas inflow           NaN              9         2020-01-26   \n",
       "4  contact with patient  1.000000e+09              2                NaN   \n",
       "\n",
       "  confirmed_date released_date deceased_date     state  \n",
       "0     2020-01-23    2020-02-05           NaN  released  \n",
       "1     2020-01-30    2020-03-02           NaN  released  \n",
       "2     2020-01-30    2020-02-19           NaN  released  \n",
       "3     2020-01-30    2020-02-15           NaN  released  \n",
       "4     2020-01-31    2020-02-24           NaN  released  "
      ]
     },
     "execution_count": 92,
     "metadata": {},
     "output_type": "execute_result"
    }
   ],
   "source": [
    "df.head(5)"
   ]
  },
  {
   "cell_type": "code",
   "execution_count": 93,
   "metadata": {},
   "outputs": [
    {
     "name": "stdout",
     "output_type": "stream",
     "text": [
      "<class 'pandas.core.frame.DataFrame'>\n",
      "RangeIndex: 5165 entries, 0 to 5164\n",
      "Data columns (total 14 columns):\n",
      " #   Column              Non-Null Count  Dtype  \n",
      "---  ------              --------------  -----  \n",
      " 0   patient_id          5165 non-null   object \n",
      " 1   sex                 4042 non-null   object \n",
      " 2   age                 3784 non-null   object \n",
      " 3   country             5164 non-null   object \n",
      " 4   province            5164 non-null   object \n",
      " 5   city                5070 non-null   object \n",
      " 6   infection_case      4245 non-null   object \n",
      " 7   infected_by         1345 non-null   float64\n",
      " 8   contact_number      791 non-null    object \n",
      " 9   symptom_onset_date  690 non-null    object \n",
      " 10  confirmed_date      5161 non-null   object \n",
      " 11  released_date       1587 non-null   object \n",
      " 12  deceased_date       66 non-null     object \n",
      " 13  state               5164 non-null   object \n",
      "dtypes: float64(1), object(13)\n",
      "memory usage: 565.0+ KB\n"
     ]
    }
   ],
   "source": [
    "df.info()"
   ]
  },
  {
   "cell_type": "markdown",
   "metadata": {},
   "source": [
    "A first glance at the data shows that the datset provides some demographic information in combination with information about the location, the timestamp and the case of infection. Some of these features present a high percentage of null values which makes them inappropriate for the following analysis."
   ]
  },
  {
   "cell_type": "markdown",
   "metadata": {},
   "source": [
    "## 1. Business Understanding"
   ]
  },
  {
   "cell_type": "markdown",
   "metadata": {},
   "source": [
    "In order to start the analysis, we have to define the questions we want to answer. As we have three columns that describe the patients location, we decide to focus on the feature \"province\" to describe the location and drop the rest. Next to that the dataset provides demographic features, which describe the sex and age of the patient. Another interesting topic to investigate is the duration of illness, since the dataset offers sufficient time related information. Before we precisely define the questions we want to answer, we have to check if the columns of the datset are suited, especially in terms of missing values."
   ]
  },
  {
   "cell_type": "markdown",
   "metadata": {},
   "source": [
    "## 2. Data Understanding"
   ]
  },
  {
   "cell_type": "code",
   "execution_count": 94,
   "metadata": {},
   "outputs": [
    {
     "name": "stdout",
     "output_type": "stream",
     "text": [
      "Fraction of NA's in column sympton_onset_date: 0.8664085188770572\n",
      "Fraction of NA's in column confirmed_date: 0.0007744433688286545\n",
      "Fraction of NA's in column released_date: 0.6927395934172313\n",
      "Fraction of NA's in column deceased_date: 0.9872216844143272\n",
      "\n"
     ]
    }
   ],
   "source": [
    "print(f\"Fraction of NA's in column sympton_onset_date: {df['symptom_onset_date'].isna().mean()}\\n\\\n",
    "Fraction of NA's in column confirmed_date: {df['confirmed_date'].isna().mean()}\\n\\\n",
    "Fraction of NA's in column released_date: {df['released_date'].isna().mean()}\\n\\\n",
    "Fraction of NA's in column deceased_date: {df['deceased_date'].isna().mean()}\\n\")"
   ]
  },
  {
   "cell_type": "markdown",
   "metadata": {},
   "source": [
    "Here we can see that the provided time features show a lot of missing values. To further investigate the duration of the infection, we have to decide on two columns we want to build this feature with. Since symptom_onset_date and deceased_date have the highest portion of null values, we will drop these features and engineer the feature \"duration\" with help of the remaining two columns in the upcoming section. As we have already seen in the initial data exploration, sex and age also include some missing values, which we will care about in the next section as well. \n",
    "After the first two steps we define the following 3 questions, we will take a closer look at in the further analysis:\n",
    "\n",
    "#### a) Which province had the most Corona cases?\n",
    "#### b) Is there any difference in duration of illness for male vs female citizen? \n",
    "#### d) Which features have the biggest influence on the duration of the infection? "
   ]
  },
  {
   "cell_type": "markdown",
   "metadata": {},
   "source": [
    "## 3. Data Preparation"
   ]
  },
  {
   "cell_type": "markdown",
   "metadata": {},
   "source": [
    "Befor we can start our analysis and model the data, we have to prepare it. We will do this with help of the function prepare_df. This function includes dropping null values for the two columns confirmed_date and released date. After that we transform these columns to datetime objects, in order to engineer the duration feature. After that, we use the function time_to_integer, to extract the days from the datetime object and safe it as an integer. In a next step we drop the columns we will not use in the upcoming analysis."
   ]
  },
  {
   "cell_type": "code",
   "execution_count": 95,
   "metadata": {},
   "outputs": [],
   "source": [
    "def time_to_integer(time):\n",
    "    \"\"\"Extracts days from datetime object\n",
    "    :param time:\n",
    "        datetime object\n",
    "    :return:\n",
    "        days of datetime object\n",
    "    \"\"\"\n",
    "    time = str(time)\n",
    "    t, _, _ = time.split(\" \")\n",
    "    return int(t)\n",
    "\n",
    "\n",
    "def prepare_df(df):\n",
    "    \"\"\"Function to drop prepare the initial dataframe. This includes dropping NA's in confirmed_data, released_date\n",
    "    and afterwards transforming these columns to datetime objects. After that a new feature \"duration\" is created and\n",
    "    unnecessary columns are being dropped\n",
    "    :param df:\n",
    "        dataframe to be prepared\n",
    "    :return:\n",
    "        prepared dataframe\n",
    "    \"\"\"\n",
    "    df = df.dropna(subset=[\"confirmed_date\", \"released_date\"])\n",
    "    assert df.confirmed_date.isna().sum != 0 or df.released_date != 0\n",
    "    df[[\"confirmed_date\", \"released_date\"]] = df[\n",
    "        [\"confirmed_date\", \"released_date\"]\n",
    "    ].apply(pd.to_datetime)\n",
    "    df[\"duration\"] = df[\"released_date\"] - df[\"confirmed_date\"]\n",
    "    df[\"duration\"] = df[\"duration\"].apply(time_to_integer)\n",
    "    df = df.drop(\n",
    "        [\n",
    "            \"symptom_onset_date\",\n",
    "            \"deceased_date\",\n",
    "            \"patient_id\",\n",
    "            \"country\",\n",
    "            \"infected_by\",\n",
    "            \"state\",\n",
    "            \"contact_number\",\n",
    "            \"confirmed_date\",\n",
    "            \"released_date\",\n",
    "            \"city\",\n",
    "            \"infection_case\"\n",
    "        ],\n",
    "        axis=1,\n",
    "    )\n",
    "\n",
    "    return df"
   ]
  },
  {
   "cell_type": "code",
   "execution_count": 96,
   "metadata": {},
   "outputs": [],
   "source": [
    "df = prepare_df(df);"
   ]
  },
  {
   "cell_type": "code",
   "execution_count": 97,
   "metadata": {},
   "outputs": [
    {
     "name": "stdout",
     "output_type": "stream",
     "text": [
      "<class 'pandas.core.frame.DataFrame'>\n",
      "Int64Index: 1587 entries, 0 to 5161\n",
      "Data columns (total 4 columns):\n",
      " #   Column    Non-Null Count  Dtype \n",
      "---  ------    --------------  ----- \n",
      " 0   sex       1586 non-null   object\n",
      " 1   age       1576 non-null   object\n",
      " 2   province  1587 non-null   object\n",
      " 3   duration  1587 non-null   int64 \n",
      "dtypes: int64(1), object(3)\n",
      "memory usage: 62.0+ KB\n"
     ]
    }
   ],
   "source": [
    "df.info()"
   ]
  },
  {
   "cell_type": "markdown",
   "metadata": {},
   "source": [
    "Now we can observe that we still have some missing values in the demographic columns sex and age. As our Machine Learning algorithm, we will use to answer question c) can not handle missing values, we will fill them with the mode of the respective column."
   ]
  },
  {
   "cell_type": "code",
   "execution_count": 98,
   "metadata": {},
   "outputs": [],
   "source": [
    "fillna = lambda col: col.fillna(col.mode()[0])\n",
    "df = df.apply(fillna)"
   ]
  },
  {
   "cell_type": "code",
   "execution_count": 99,
   "metadata": {},
   "outputs": [
    {
     "name": "stdout",
     "output_type": "stream",
     "text": [
      "<class 'pandas.core.frame.DataFrame'>\n",
      "Int64Index: 1587 entries, 0 to 5161\n",
      "Data columns (total 4 columns):\n",
      " #   Column    Non-Null Count  Dtype \n",
      "---  ------    --------------  ----- \n",
      " 0   sex       1587 non-null   object\n",
      " 1   age       1587 non-null   object\n",
      " 2   province  1587 non-null   object\n",
      " 3   duration  1587 non-null   int64 \n",
      "dtypes: int64(1), object(3)\n",
      "memory usage: 62.0+ KB\n"
     ]
    }
   ],
   "source": [
    "df.info()"
   ]
  },
  {
   "cell_type": "markdown",
   "metadata": {},
   "source": [
    "This final dataframe consists only of the features that we need to answer our questions and does not contain any null values."
   ]
  },
  {
   "cell_type": "markdown",
   "metadata": {},
   "source": [
    "## 4. Data Modeling and Evaluation"
   ]
  },
  {
   "cell_type": "markdown",
   "metadata": {},
   "source": [
    "### a) Which province had the most Corona cases?"
   ]
  },
  {
   "cell_type": "markdown",
   "metadata": {},
   "source": [
    "In order not to distort the statistics we will use the initial dataframe to answer this question. Initial dataframe means that we retain the instances we dropped in the prepare_df column. These instances were the ones, we had a null value in either the confirmed_date or the released_date. If we would use the prepared dataframe to answer this question, we would distort the initial cases counts in the different provinces. \n",
    "In the plot we can see that Seoul had the most cases, followed by Gyeongsangbuk-do and Gyeonggi-do. The rest of the cases are distributed across another 14 provinces."
   ]
  },
  {
   "cell_type": "code",
   "execution_count": 100,
   "metadata": {},
   "outputs": [
    {
     "data": {
      "image/png": "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\n",
      "text/plain": [
       "<Figure size 1440x216 with 1 Axes>"
      ]
     },
     "metadata": {
      "needs_background": "light"
     },
     "output_type": "display_data"
    }
   ],
   "source": [
    "plt.figure(figsize = (20,3))\n",
    "sns.countplot(x = \"province\", data = df_init, order=df_init.province.value_counts().iloc[:20].index)\n",
    "plt.xticks(rotation=45);"
   ]
  },
  {
   "cell_type": "markdown",
   "metadata": {},
   "source": [
    "The second barplot shows the distribution of infections across provinces after preparing the dataframe as described below. Here we can see a completely different distribution. Comparing these two barplots, we suppose that the provinces Seoul and Gyeonggi-do tracked the dates of infection (confirmed_date and released_date) very poorly. In contrast Incheon tracked a high portion of its Corona infections' dates."
   ]
  },
  {
   "cell_type": "code",
   "execution_count": 101,
   "metadata": {},
   "outputs": [
    {
     "data": {
      "image/png": "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\n",
      "text/plain": [
       "<Figure size 1440x216 with 1 Axes>"
      ]
     },
     "metadata": {
      "needs_background": "light"
     },
     "output_type": "display_data"
    }
   ],
   "source": [
    "plt.figure(figsize = (20,3))\n",
    "sns.countplot(x = \"province\", data = df, order=df.province.value_counts().iloc[:20].index)\n",
    "plt.xticks(rotation=45);"
   ]
  },
  {
   "cell_type": "markdown",
   "metadata": {},
   "source": [
    "### b) Is there any difference in duration of illness for male vs female citizen? "
   ]
  },
  {
   "cell_type": "markdown",
   "metadata": {},
   "source": [
    "The next question we want to investigate is, if there is a difference in duration for male vs female citizen. To solve this question we plot the histograms for both gender and added a density line on these. Here we can see, that there is a higher peak for females in the duration around 18 days in comparison to the males. On the other hand, the density is a bit higher in the interval of 1-15 days. \n",
    "In conclusion, there are no significant differences in duration across the gender, although we can note some differences in the density lines. "
   ]
  },
  {
   "cell_type": "code",
   "execution_count": 102,
   "metadata": {},
   "outputs": [
    {
     "data": {
      "image/png": "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\n",
      "text/plain": [
       "<Figure size 1080x216 with 1 Axes>"
      ]
     },
     "metadata": {
      "needs_background": "light"
     },
     "output_type": "display_data"
    }
   ],
   "source": [
    "plt.figure(figsize = (15,3))\n",
    "sns.distplot(df[df.sex == \"male\"].duration, label = \"Male\", color = \"blue\")\n",
    "sns.distplot(df[df.sex == \"female\"].duration, label = \"Female\", color = \"orange\")\n",
    "plt.xlabel(\"Duration\")\n",
    "plt.title(\"Duration of Illness for Females vs Males\")\n",
    "plt.legend(loc=\"upper right\")\n",
    "plt.show()"
   ]
  },
  {
   "cell_type": "markdown",
   "metadata": {},
   "source": [
    "### d) Which features have the biggest influence on the duration of the infection? "
   ]
  },
  {
   "cell_type": "markdown",
   "metadata": {},
   "source": [
    "In order to answer this question, we will use a Linear Regression. We chose this algorithm, since its results are easy to interpret. Before we do so, we have to dummy code the categoric variables, since this algorithm is not able to deal with categoric variables. After that we split the dependend variable duration from the rest of the data and create a train and test set, in order to be able to evaluate our model's predictions with data the model has not seen yet. We merge all these steps into the function create_test_train() and apply it on the dataframe."
   ]
  },
  {
   "cell_type": "code",
   "execution_count": 103,
   "metadata": {},
   "outputs": [],
   "source": [
    "def create_test_train(df):\n",
    "    \"\"\"\n",
    "    Creates dummy columns for categoric features and splits into test and train for X and y.\n",
    "    :param df:\n",
    "        dataframe with categoric columns\n",
    "    :return:\n",
    "        X_train and y_train to be used for Regression fit and X_test and y_Test for testing the model on unseen data\n",
    "    \"\"\"\n",
    "    cat_vars = df.select_dtypes(include=[\"object\"]).copy().columns\n",
    "    for var in cat_vars:\n",
    "        df = pd.concat(\n",
    "            [\n",
    "                df.drop(var, axis=1),\n",
    "                pd.get_dummies(df[var], prefix=var, prefix_sep=\"_\", drop_first=True),\n",
    "            ],\n",
    "            axis=1,\n",
    "        )\n",
    "\n",
    "    X = df.drop(\"duration\", axis=1)\n",
    "    y = df[\"duration\"]\n",
    "\n",
    "    X_train, X_test, y_train, y_test = train_test_split(\n",
    "        X, y, test_size=0.2, random_state=42\n",
    "    )\n",
    "\n",
    "    return X_train, X_test, y_train, y_test"
   ]
  },
  {
   "cell_type": "code",
   "execution_count": 104,
   "metadata": {},
   "outputs": [],
   "source": [
    "X_train, X_test, y_train, y_test = create_test_train(df)"
   ]
  },
  {
   "cell_type": "code",
   "execution_count": 105,
   "metadata": {},
   "outputs": [
    {
     "data": {
      "text/plain": [
       "LinearRegression()"
      ]
     },
     "execution_count": 105,
     "metadata": {},
     "output_type": "execute_result"
    }
   ],
   "source": [
    "model = LinearRegression()\n",
    "\n",
    "model.fit(X_train, y_train)"
   ]
  },
  {
   "cell_type": "markdown",
   "metadata": {},
   "source": [
    "In order to answer the question, can now investigate the coefficients our model estimated by fitting the training data:"
   ]
  },
  {
   "cell_type": "code",
   "execution_count": 106,
   "metadata": {},
   "outputs": [],
   "source": [
    "def coef_weights(coefficients, X_train):\n",
    "    \"\"\"\n",
    "    Provides a dataframe that can be used to understand the most influential coefficients\n",
    "    in a linear model by providing the coefficient estimates along with the name of the\n",
    "    variable attached to the coefficient.\n",
    "    :param coefficients\n",
    "        the coefficients of the linear model\n",
    "    :param X_train\n",
    "        the training data, so the column names can be used\n",
    "    :return:\n",
    "        coefs_df - a dataframe holding the coefficient, estimate, and abs(estimate)\n",
    "    \"\"\"\n",
    "    coefs_df = pd.DataFrame()\n",
    "    coefs_df[\"est_int\"] = X_train.columns\n",
    "    coefs_df[\"coefs\"] = model.coef_\n",
    "    coefs_df[\"abs_coefs\"] = np.abs(model.coef_)\n",
    "    coefs_df = coefs_df.sort_values(\"abs_coefs\", ascending=False)\n",
    "    return coefs_df"
   ]
  },
  {
   "cell_type": "code",
   "execution_count": 107,
   "metadata": {},
   "outputs": [
    {
     "data": {
      "text/html": [
       "<div>\n",
       "<style scoped>\n",
       "    .dataframe tbody tr th:only-of-type {\n",
       "        vertical-align: middle;\n",
       "    }\n",
       "\n",
       "    .dataframe tbody tr th {\n",
       "        vertical-align: top;\n",
       "    }\n",
       "\n",
       "    .dataframe thead th {\n",
       "        text-align: right;\n",
       "    }\n",
       "</style>\n",
       "<table border=\"1\" class=\"dataframe\">\n",
       "  <thead>\n",
       "    <tr style=\"text-align: right;\">\n",
       "      <th></th>\n",
       "      <th>est_int</th>\n",
       "      <th>coefs</th>\n",
       "      <th>abs_coefs</th>\n",
       "    </tr>\n",
       "  </thead>\n",
       "  <tbody>\n",
       "    <tr>\n",
       "      <th>1</th>\n",
       "      <td>age_100s</td>\n",
       "      <td>41.224556</td>\n",
       "      <td>41.224556</td>\n",
       "    </tr>\n",
       "    <tr>\n",
       "      <th>12</th>\n",
       "      <td>province_Daegu</td>\n",
       "      <td>-17.725436</td>\n",
       "      <td>17.725436</td>\n",
       "    </tr>\n",
       "    <tr>\n",
       "      <th>8</th>\n",
       "      <td>age_70s</td>\n",
       "      <td>10.058049</td>\n",
       "      <td>10.058049</td>\n",
       "    </tr>\n",
       "    <tr>\n",
       "      <th>9</th>\n",
       "      <td>age_80s</td>\n",
       "      <td>9.558837</td>\n",
       "      <td>9.558837</td>\n",
       "    </tr>\n",
       "    <tr>\n",
       "      <th>24</th>\n",
       "      <td>province_Seoul</td>\n",
       "      <td>-8.107969</td>\n",
       "      <td>8.107969</td>\n",
       "    </tr>\n",
       "    <tr>\n",
       "      <th>16</th>\n",
       "      <td>province_Gyeonggi-do</td>\n",
       "      <td>-7.875213</td>\n",
       "      <td>7.875213</td>\n",
       "    </tr>\n",
       "    <tr>\n",
       "      <th>23</th>\n",
       "      <td>province_Sejong</td>\n",
       "      <td>5.823825</td>\n",
       "      <td>5.823825</td>\n",
       "    </tr>\n",
       "    <tr>\n",
       "      <th>10</th>\n",
       "      <td>age_90s</td>\n",
       "      <td>4.985517</td>\n",
       "      <td>4.985517</td>\n",
       "    </tr>\n",
       "    <tr>\n",
       "      <th>14</th>\n",
       "      <td>province_Gangwon-do</td>\n",
       "      <td>-4.807489</td>\n",
       "      <td>4.807489</td>\n",
       "    </tr>\n",
       "    <tr>\n",
       "      <th>15</th>\n",
       "      <td>province_Gwangju</td>\n",
       "      <td>-4.172708</td>\n",
       "      <td>4.172708</td>\n",
       "    </tr>\n",
       "    <tr>\n",
       "      <th>2</th>\n",
       "      <td>age_10s</td>\n",
       "      <td>-3.680420</td>\n",
       "      <td>3.680420</td>\n",
       "    </tr>\n",
       "    <tr>\n",
       "      <th>21</th>\n",
       "      <td>province_Jeollabuk-do</td>\n",
       "      <td>3.616802</td>\n",
       "      <td>3.616802</td>\n",
       "    </tr>\n",
       "    <tr>\n",
       "      <th>7</th>\n",
       "      <td>age_60s</td>\n",
       "      <td>3.058902</td>\n",
       "      <td>3.058902</td>\n",
       "    </tr>\n",
       "    <tr>\n",
       "      <th>17</th>\n",
       "      <td>province_Gyeongsangbuk-do</td>\n",
       "      <td>2.975740</td>\n",
       "      <td>2.975740</td>\n",
       "    </tr>\n",
       "    <tr>\n",
       "      <th>11</th>\n",
       "      <td>province_Chungcheongnam-do</td>\n",
       "      <td>2.193685</td>\n",
       "      <td>2.193685</td>\n",
       "    </tr>\n",
       "    <tr>\n",
       "      <th>19</th>\n",
       "      <td>province_Incheon</td>\n",
       "      <td>2.014079</td>\n",
       "      <td>2.014079</td>\n",
       "    </tr>\n",
       "    <tr>\n",
       "      <th>22</th>\n",
       "      <td>province_Jeollanam-do</td>\n",
       "      <td>1.779302</td>\n",
       "      <td>1.779302</td>\n",
       "    </tr>\n",
       "    <tr>\n",
       "      <th>0</th>\n",
       "      <td>sex_male</td>\n",
       "      <td>1.548485</td>\n",
       "      <td>1.548485</td>\n",
       "    </tr>\n",
       "    <tr>\n",
       "      <th>20</th>\n",
       "      <td>province_Jeju-do</td>\n",
       "      <td>1.207709</td>\n",
       "      <td>1.207709</td>\n",
       "    </tr>\n",
       "    <tr>\n",
       "      <th>13</th>\n",
       "      <td>province_Daejeon</td>\n",
       "      <td>1.164222</td>\n",
       "      <td>1.164222</td>\n",
       "    </tr>\n",
       "  </tbody>\n",
       "</table>\n",
       "</div>"
      ],
      "text/plain": [
       "                       est_int      coefs  abs_coefs\n",
       "1                     age_100s  41.224556  41.224556\n",
       "12              province_Daegu -17.725436  17.725436\n",
       "8                      age_70s  10.058049  10.058049\n",
       "9                      age_80s   9.558837   9.558837\n",
       "24              province_Seoul  -8.107969   8.107969\n",
       "16        province_Gyeonggi-do  -7.875213   7.875213\n",
       "23             province_Sejong   5.823825   5.823825\n",
       "10                     age_90s   4.985517   4.985517\n",
       "14         province_Gangwon-do  -4.807489   4.807489\n",
       "15            province_Gwangju  -4.172708   4.172708\n",
       "2                      age_10s  -3.680420   3.680420\n",
       "21       province_Jeollabuk-do   3.616802   3.616802\n",
       "7                      age_60s   3.058902   3.058902\n",
       "17   province_Gyeongsangbuk-do   2.975740   2.975740\n",
       "11  province_Chungcheongnam-do   2.193685   2.193685\n",
       "19            province_Incheon   2.014079   2.014079\n",
       "22       province_Jeollanam-do   1.779302   1.779302\n",
       "0                     sex_male   1.548485   1.548485\n",
       "20            province_Jeju-do   1.207709   1.207709\n",
       "13            province_Daejeon   1.164222   1.164222"
      ]
     },
     "execution_count": 107,
     "metadata": {},
     "output_type": "execute_result"
    }
   ],
   "source": [
    "coef_df = coef_weights(model.coef_, X_train)\n",
    "\n",
    "coef_df.head(20)"
   ]
  },
  {
   "cell_type": "markdown",
   "metadata": {},
   "source": [
    "Here we can see that the dummy coded column age_100s has the highest coefficient of our Linear Regression model. This means that this variable has the highest influence on the duration of illness. The second highest absolute coefficient is the province_Daegu column. Since its coefficient is negative, it seems to have a negative influence on the duration of illness. This could imply that the province Daegu has a good healthcare system in comparison to the other provinces.\n",
    "Next to these two columns, the dummy variables age_70s and age_80s have a relative high coefficient. This is a intuitive finding, because a higher age usually implies a worse course of the corona disease. Additionally, our findings from question b) can be proved: Since the coefficient for the variable sex_male is very low, there is no big influence of the gender on the infection's duration."
   ]
  },
  {
   "cell_type": "markdown",
   "metadata": {},
   "source": [
    "Next to the interpretation of the coefficients, we can make predictions with our model: "
   ]
  },
  {
   "cell_type": "code",
   "execution_count": 108,
   "metadata": {},
   "outputs": [
    {
     "data": {
      "text/plain": [
       "array([23.30468045, 24.08673518, 26.43568773, 17.58459435, 24.04885556])"
      ]
     },
     "execution_count": 108,
     "metadata": {},
     "output_type": "execute_result"
    }
   ],
   "source": [
    "preds = model.predict(X_test)\n",
    "preds[0:5]"
   ]
  },
  {
   "cell_type": "markdown",
   "metadata": {},
   "source": [
    "After that we want to evaluate these predictions on our test data. A good measurement for regression problems is the R-squared. It is defined between 0 and 1 and the higher its value, the better the models predictions."
   ]
  },
  {
   "cell_type": "code",
   "execution_count": 109,
   "metadata": {},
   "outputs": [
    {
     "data": {
      "text/plain": [
       "0.07998722173868267"
      ]
     },
     "execution_count": 109,
     "metadata": {},
     "output_type": "execute_result"
    }
   ],
   "source": [
    "r2_score(y_test, preds)"
   ]
  },
  {
   "cell_type": "markdown",
   "metadata": {},
   "source": [
    "This measurement returns a value of around 8%. This means that our model is not able to predict the durations well. This is sometimes the case when it comes to the application of Linear Regression models, because it requires a **linear** correlation between the dependend and the independend variable. Another problem can be that the picked variables are not able to predict the duration well. To investigate if it is just a nonlinear relation that causes these bad results, we will try to train a Random Forest and evaluate the results analogous to the previous procedure. "
   ]
  },
  {
   "cell_type": "code",
   "execution_count": 110,
   "metadata": {},
   "outputs": [],
   "source": [
    "rf_model = RandomForestRegressor()"
   ]
  },
  {
   "cell_type": "code",
   "execution_count": 111,
   "metadata": {},
   "outputs": [
    {
     "data": {
      "text/plain": [
       "RandomForestRegressor()"
      ]
     },
     "execution_count": 111,
     "metadata": {},
     "output_type": "execute_result"
    }
   ],
   "source": [
    "rf_model.fit(X_train, y_train)"
   ]
  },
  {
   "cell_type": "code",
   "execution_count": 112,
   "metadata": {},
   "outputs": [
    {
     "data": {
      "text/plain": [
       "array([19.31720349, 25.0506787 , 26.14393459, 17.75380952, 25.5608575 ])"
      ]
     },
     "execution_count": 112,
     "metadata": {},
     "output_type": "execute_result"
    }
   ],
   "source": [
    "preds_rf = rf_model.predict(X_test)\n",
    "preds_rf[0:5]"
   ]
  },
  {
   "cell_type": "code",
   "execution_count": 113,
   "metadata": {},
   "outputs": [
    {
     "data": {
      "text/plain": [
       "0.04680342869851506"
      ]
     },
     "execution_count": 113,
     "metadata": {},
     "output_type": "execute_result"
    }
   ],
   "source": [
    "r2_score(y_test, preds_rf)"
   ]
  },
  {
   "cell_type": "code",
   "execution_count": 114,
   "metadata": {},
   "outputs": [
    {
     "data": {
      "text/plain": [
       "{'bootstrap': True,\n",
       " 'ccp_alpha': 0.0,\n",
       " 'criterion': 'mse',\n",
       " 'max_depth': None,\n",
       " 'max_features': 'auto',\n",
       " 'max_leaf_nodes': None,\n",
       " 'max_samples': None,\n",
       " 'min_impurity_decrease': 0.0,\n",
       " 'min_impurity_split': None,\n",
       " 'min_samples_leaf': 1,\n",
       " 'min_samples_split': 2,\n",
       " 'min_weight_fraction_leaf': 0.0,\n",
       " 'n_estimators': 100,\n",
       " 'n_jobs': None,\n",
       " 'oob_score': False,\n",
       " 'random_state': None,\n",
       " 'verbose': 0,\n",
       " 'warm_start': False}"
      ]
     },
     "execution_count": 114,
     "metadata": {},
     "output_type": "execute_result"
    }
   ],
   "source": [
    "rf_model.get_params()"
   ]
  },
  {
   "cell_type": "markdown",
   "metadata": {},
   "source": [
    "Using the model of the Random Forest by Skikit-Learn with the default hyperparameters, we obtain even worse results. We will further analyze it that is the case because of the wrong hyperparameter initialization with use of a Randomized Search including Cross Validation."
   ]
  },
  {
   "cell_type": "code",
   "execution_count": 115,
   "metadata": {},
   "outputs": [],
   "source": [
    "# Number of trees in random forest\n",
    "n_estimators = [int(x) for x in np.linspace(start = 200, stop = 2000, num = 10)]\n",
    "# Number of features to consider at every split\n",
    "max_features = ['auto', 'sqrt']\n",
    "# Maximum number of levels in tree\n",
    "max_depth = [int(x) for x in np.linspace(10, 110, num = 11)]\n",
    "max_depth.append(None)\n",
    "# Minimum number of samples required to split a node\n",
    "min_samples_split = [2, 5, 10]\n",
    "# Minimum number of samples required at each leaf node\n",
    "min_samples_leaf = [1, 2, 4]\n",
    "# Method of selecting samples for training each tree\n",
    "bootstrap = [True, False]\n",
    "# Create the random grid\n",
    "random_grid = {'n_estimators': n_estimators,\n",
    "               'max_features': max_features,\n",
    "               'max_depth': max_depth,\n",
    "               'min_samples_split': min_samples_split,\n",
    "               'min_samples_leaf': min_samples_leaf,\n",
    "               'bootstrap': bootstrap}"
   ]
  },
  {
   "cell_type": "code",
   "execution_count": 116,
   "metadata": {},
   "outputs": [
    {
     "name": "stdout",
     "output_type": "stream",
     "text": [
      "Fitting 3 folds for each of 100 candidates, totalling 300 fits\n"
     ]
    },
    {
     "data": {
      "text/plain": [
       "RandomizedSearchCV(cv=3, estimator=RandomForestRegressor(), n_iter=100,\n",
       "                   n_jobs=-1,\n",
       "                   param_distributions={'bootstrap': [True, False],\n",
       "                                        'max_depth': [10, 20, 30, 40, 50, 60,\n",
       "                                                      70, 80, 90, 100, 110,\n",
       "                                                      None],\n",
       "                                        'max_features': ['auto', 'sqrt'],\n",
       "                                        'min_samples_leaf': [1, 2, 4],\n",
       "                                        'min_samples_split': [2, 5, 10],\n",
       "                                        'n_estimators': [200, 400, 600, 800,\n",
       "                                                         1000, 1200, 1400, 1600,\n",
       "                                                         1800, 2000]},\n",
       "                   random_state=42, verbose=2)"
      ]
     },
     "execution_count": 116,
     "metadata": {},
     "output_type": "execute_result"
    }
   ],
   "source": [
    "# Random search of parameters, using 3 fold cross validation, \n",
    "# search across 100 different combinations, and use all available cores\n",
    "rf_random = RandomizedSearchCV(estimator = rf_model, param_distributions = random_grid, n_iter = 100, cv = 3, verbose=2, random_state=42, n_jobs = -1)\n",
    "# Fit the random search model\n",
    "rf_random.fit(X_train, y_train)"
   ]
  },
  {
   "cell_type": "code",
   "execution_count": 117,
   "metadata": {},
   "outputs": [
    {
     "data": {
      "text/plain": [
       "{'n_estimators': 1600,\n",
       " 'min_samples_split': 2,\n",
       " 'min_samples_leaf': 4,\n",
       " 'max_features': 'sqrt',\n",
       " 'max_depth': 10,\n",
       " 'bootstrap': True}"
      ]
     },
     "execution_count": 117,
     "metadata": {},
     "output_type": "execute_result"
    }
   ],
   "source": [
    "rf_random.best_params_"
   ]
  },
  {
   "cell_type": "code",
   "execution_count": 118,
   "metadata": {},
   "outputs": [],
   "source": [
    "preds_rf_random = rf_random.predict(X_test)"
   ]
  },
  {
   "cell_type": "code",
   "execution_count": 119,
   "metadata": {},
   "outputs": [
    {
     "data": {
      "text/plain": [
       "0.09833053588641472"
      ]
     },
     "execution_count": 119,
     "metadata": {},
     "output_type": "execute_result"
    }
   ],
   "source": [
    "r2_score(y_test, preds_rf_random)"
   ]
  },
  {
   "cell_type": "markdown",
   "metadata": {},
   "source": [
    "We can observe a R-squared of around 10%, which is better than the Linar Regression and the RF with the initial Hyperparameters. This shows again, how important it is, to also optimize them and not just use the default values. Although we improved our predictions, a R-squared of 10% on the test data still does not indicate a good model. "
   ]
  },
  {
   "cell_type": "markdown",
   "metadata": {},
   "source": [
    "We can conclude that the variables picked (age, sex and province) are not able to predict the duration of illness very well. This is a intuitive result, since the duration is much more complex to explain than just using these three variables. If we had more information, f.e. if the patient had any previous diseases, we could probably obtain better results."
   ]
  }
 ],
 "metadata": {
  "kernelspec": {
   "display_name": "p1",
   "language": "python",
   "name": "p1"
  },
  "language_info": {
   "codemirror_mode": {
    "name": "ipython",
    "version": 3
   },
   "file_extension": ".py",
   "mimetype": "text/x-python",
   "name": "python",
   "nbconvert_exporter": "python",
   "pygments_lexer": "ipython3",
   "version": "3.9.1"
  }
 },
 "nbformat": 4,
 "nbformat_minor": 1
}
>>>>>>> structure_CRISPDM
